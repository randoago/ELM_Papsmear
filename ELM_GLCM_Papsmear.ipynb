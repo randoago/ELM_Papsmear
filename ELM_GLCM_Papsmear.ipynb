{
  "nbformat": 4,
  "nbformat_minor": 0,
  "metadata": {
    "colab": {
      "provenance": [],
      "collapsed_sections": [
        "HWdeaa8_Jb8i",
        "cJS3g_6kJb8k",
        "itYWKiVEJb83",
        "0im4HGABJwIe",
        "2QtnFUqRJ-Ql",
        "yqKAJjfVn9P4",
        "7DnddzJRVMzF",
        "A5l6nrlpXuxc",
        "HmZ1mjTVpo7o",
        "G55IMbompsSt",
        "JJCaUscAcRCP",
        "MnWTHr_q4uOy",
        "GF1FtYM3EHSw",
        "nnfWoYYSEHS8",
        "Y4vkw8oxKRC5"
      ],
      "mount_file_id": "1me5Dt4dSJ_z6PLqMi_TkbLmbsbjHG-o7",
      "authorship_tag": "ABX9TyOnhQQhsoWFi+/uajDbVrrd",
      "include_colab_link": true
    },
    "kernelspec": {
      "name": "python3",
      "display_name": "Python 3"
    },
    "language_info": {
      "name": "python"
    }
  },
  "cells": [
    {
      "cell_type": "markdown",
      "metadata": {
        "id": "view-in-github",
        "colab_type": "text"
      },
      "source": [
        "<a href=\"https://colab.research.google.com/github/randoago/ELM_Papsmear/blob/main/ELM_GLCM_Papsmear.ipynb\" target=\"_parent\"><img src=\"https://colab.research.google.com/assets/colab-badge.svg\" alt=\"Open In Colab\"/></a>"
      ]
    },
    {
      "cell_type": "code",
      "execution_count": null,
      "metadata": {
        "id": "3Zbe-Nuv6WG3",
        "colab": {
          "base_uri": "https://localhost:8080/"
        },
        "outputId": "b0749a2e-9cc0-4fe6-ef6c-90dcd3bfa5be"
      },
      "outputs": [
        {
          "output_type": "stream",
          "name": "stdout",
          "text": [
            "Drive already mounted at /content/drive; to attempt to forcibly remount, call drive.mount(\"/content/drive\", force_remount=True).\n"
          ]
        }
      ],
      "source": [
        "from google.colab import drive\n",
        "drive.mount('/content/drive')"
      ]
    },
    {
      "cell_type": "code",
      "source": [
        "import os\n",
        "import glob\n",
        "import numpy as np\n",
        "import pandas as pd \n",
        "import matplotlib.pyplot as plt\n",
        "import cv2\n",
        "from scipy.linalg import pinv2, inv #for ELM\n",
        "import time\n",
        "\n",
        "\n",
        "from skimage.feature import greycomatrix, greycoprops\n",
        "from sklearn.metrics import confusion_matrix, classification_report\n",
        "from sklearn.model_selection import train_test_split\n",
        "from sklearn.metrics.cluster import entropy\n",
        "from sklearn.preprocessing import MinMaxScaler\n",
        "import seaborn as sns"
      ],
      "metadata": {
        "id": "MY89v9Bb6_PF"
      },
      "execution_count": null,
      "outputs": []
    },
    {
      "cell_type": "markdown",
      "source": [
        "#============================= **Real Data** ============================="
      ],
      "metadata": {
        "id": "X-LJQhE_ofOg"
      }
    },
    {
      "cell_type": "markdown",
      "source": [
        "Pembagian Dataset (60:40) :\n",
        "\n",
        "\n",
        "> Train dataset:\n",
        "*   Adenocarcinoma : 30\n",
        "*   HSIL : 298\n",
        "*   SCC : 29\n",
        "\n",
        "> Test dataset:\n",
        "*   Adenocarcinoma : 22\n",
        "*   HSIL : 194\n",
        "*   SCC : 23\n",
        "\n",
        "\n"
      ],
      "metadata": {
        "id": "5J23k5cMopLM"
      }
    },
    {
      "cell_type": "markdown",
      "source": [
        "# GLCM"
      ],
      "metadata": {
        "id": "HWdeaa8_Jb8i"
      }
    },
    {
      "cell_type": "markdown",
      "source": [
        "##================ **GLCM Train** ===================\n",
        "\n"
      ],
      "metadata": {
        "id": "cJS3g_6kJb8k"
      }
    },
    {
      "cell_type": "code",
      "source": [
        "data=[]\n",
        "labels=[]\n",
        "random.seed(42)\n",
        "entr =[]\n",
        "dir = '/content/drive/MyDrive/data_new/3class_60_40/train/'\n",
        "imagePaths = sorted(list(os.listdir(dir)))\n",
        "random.shuffle(imagePaths)\n",
        "print(imagePaths)\n",
        "\n",
        "for img in imagePaths:\n",
        "\n",
        "    path=sorted(list(os.listdir(dir+img)))\n",
        "    #print(path)\n",
        "\n",
        "    for i in path:\n",
        "    \n",
        "      image = cv2.imread(dir+img+'/'+i)\n",
        "      #print(image)\n",
        "      image = cv2.resize(image, (512,512))\n",
        "      gray = cv2.cvtColor(image, cv2.COLOR_RGB2GRAY)\n",
        "      h, w = gray.shape\n",
        "      ymin, ymax, xmin, xmax = h//3, h*2//3, w//3, w*2//3\n",
        "      crop = gray[ymin:ymax, xmin:xmax]\n",
        "         \n",
        "      resize = cv2.resize(crop, (0,0), fx=0.5, fy=0.5)\n",
        "      ent = entropy (resize)\n",
        "      entr.append(ent)\n",
        "            \n",
        "      data.append(resize)\n",
        "\n",
        "      l = label = img\n",
        "\n",
        "      \n",
        "      labels.append(l)"
      ],
      "metadata": {
        "colab": {
          "base_uri": "https://localhost:8080/"
        },
        "outputId": "5a33886c-3058-49bf-be94-f9b6d6f945cf",
        "id": "WCcLe5s_Jb8l"
      },
      "execution_count": null,
      "outputs": [
        {
          "output_type": "stream",
          "name": "stdout",
          "text": [
            "['HSIL', 'Adenocarcinoma', 'SquamousCellCarcinoma']\n"
          ]
        }
      ]
    },
    {
      "cell_type": "code",
      "source": [
        "from skimage.feature import greycomatrix, greycoprops\n",
        "from sklearn.metrics.cluster import entropy\n",
        "\n",
        "# ----------------- calculate greycomatrix() & greycoprops() for angle 0, 45, 90, 135 ----------------------------------\n",
        "def calc_glcm_all_agls(img, label, props, dists=[5], agls=[0, np.pi/4, np.pi/2, 3*np.pi/4], lvl=256, sym=True, norm=True):\n",
        "    \n",
        "    glcm = greycomatrix(img, \n",
        "                        distances=dists, \n",
        "                        angles=agls, \n",
        "                        levels=lvl,\n",
        "                        symmetric=sym, \n",
        "                        normed=norm)\n",
        "    feature = []\n",
        "    glcm_props = [propery for name in props for propery in greycoprops(glcm, name)[0]]\n",
        "    for item in glcm_props:\n",
        "            feature.append(item)\n",
        "    feature.append(label) \n",
        "    \n",
        "    return feature\n",
        "\n",
        "\n",
        "# ----------------- call calc_glcm_all_agls() for all properties ----------------------------------\n",
        "properties = ['contrast', 'correlation', 'homogeneity', 'energy']\n",
        "\n",
        "glcm_all_agls = []\n",
        "for img, label in zip(data, labels): \n",
        "    glcm_all_agls.append(\n",
        "            calc_glcm_all_agls(img, \n",
        "                                label, \n",
        "                                props=properties)\n",
        "                            )\n",
        " \n",
        "columns = []\n",
        "angles = ['0', '45', '90','135']\n",
        "for name in properties :\n",
        "    for ang in angles:\n",
        "        columns.append(name + \"_\" + ang)\n",
        "        \n",
        "columns.append(\"label\")"
      ],
      "metadata": {
        "id": "9Tz0QmLuJb8o"
      },
      "execution_count": null,
      "outputs": []
    },
    {
      "cell_type": "code",
      "source": [
        "import pandas as pd \n",
        "\n",
        "# Create the pandas DataFrame for GLCM features data\n",
        "glcm_df = pd.DataFrame(glcm_all_agls, \n",
        "                      columns = columns)\n"
      ],
      "metadata": {
        "id": "FSSrhEoVJb8q"
      },
      "execution_count": null,
      "outputs": []
    },
    {
      "cell_type": "code",
      "source": [
        "glcm_df"
      ],
      "metadata": {
        "colab": {
          "base_uri": "https://localhost:8080/",
          "height": 488
        },
        "outputId": "87ee6853-a1db-418d-d2d9-ba878afdc4a1",
        "id": "OmMBSUQuJb8r"
      },
      "execution_count": null,
      "outputs": [
        {
          "output_type": "execute_result",
          "data": {
            "text/plain": [
              "      contrast_0  contrast_45  contrast_90  contrast_135  correlation_0  \\\n",
              "0     580.475883   873.868382   815.220356    867.007882       0.932769   \n",
              "1     949.253661  1000.891880   800.325151   1049.330161       0.757385   \n",
              "2     946.330462  1276.026770   999.146425    927.341612       0.853925   \n",
              "3     999.020098   926.708507   945.580103   1275.953748       0.839233   \n",
              "4     945.090439  1274.726353   998.829601    926.726056       0.854166   \n",
              "..           ...          ...          ...           ...            ...   \n",
              "352  2979.518662  3250.041344  2641.481481   3128.195419       0.522462   \n",
              "353  3806.005742  3748.521416  3013.545220   3665.443040       0.208192   \n",
              "354  5086.191645  5078.376115  4189.065604   5220.514575       0.564751   \n",
              "355  7344.964255  7170.697799  5364.485070   7476.991820       0.172071   \n",
              "356  4499.411283  4340.538667  3405.525983   4728.093694       0.564531   \n",
              "\n",
              "     correlation_45  correlation_90  correlation_135  homogeneity_0  \\\n",
              "0          0.897329        0.903480         0.897776       0.112373   \n",
              "1          0.744192        0.797818         0.732004       0.134885   \n",
              "2          0.794233        0.839198         0.850649       0.077277   \n",
              "3          0.850770        0.854098         0.794271       0.082494   \n",
              "4          0.794457        0.839231         0.850764       0.077696   \n",
              "..              ...             ...              ...            ...   \n",
              "352        0.468360        0.578882         0.486578       0.037078   \n",
              "353        0.214055        0.369026         0.234306       0.239714   \n",
              "354        0.565282        0.638179         0.552167       0.052508   \n",
              "355        0.184662        0.388908         0.148669       0.024841   \n",
              "356        0.578179        0.671655         0.539899       0.040467   \n",
              "\n",
              "     homogeneity_45  homogeneity_90  homogeneity_135  energy_0  energy_45  \\\n",
              "0          0.079750        0.076062         0.074653  0.019019   0.017124   \n",
              "1          0.125873        0.140946         0.134849  0.046222   0.040711   \n",
              "2          0.076657        0.082384         0.074915  0.018977   0.017145   \n",
              "3          0.075022        0.077252         0.076287  0.018038   0.017262   \n",
              "4          0.076422        0.082219         0.074952  0.018791   0.017022   \n",
              "..              ...             ...              ...       ...        ...   \n",
              "352        0.037555        0.045620         0.038107  0.011638   0.011732   \n",
              "353        0.236142        0.266322         0.240092  0.175679   0.178114   \n",
              "354        0.047526        0.063392         0.055703  0.019094   0.017245   \n",
              "355        0.028531        0.035063         0.027503  0.010897   0.011208   \n",
              "356        0.039632        0.052487         0.042897  0.012339   0.012574   \n",
              "\n",
              "     energy_90  energy_135                  label  \n",
              "0     0.016592    0.016923                   HSIL  \n",
              "1     0.044914    0.044697                   HSIL  \n",
              "2     0.018277    0.017296                   HSIL  \n",
              "3     0.018915    0.016974                   HSIL  \n",
              "4     0.018214    0.017219                   HSIL  \n",
              "..         ...         ...                    ...  \n",
              "352   0.012079    0.011777  SquamousCellCarcinoma  \n",
              "353   0.194478    0.178068  SquamousCellCarcinoma  \n",
              "354   0.021340    0.021045  SquamousCellCarcinoma  \n",
              "355   0.011898    0.011091  SquamousCellCarcinoma  \n",
              "356   0.014440    0.012836  SquamousCellCarcinoma  \n",
              "\n",
              "[357 rows x 17 columns]"
            ],
            "text/html": [
              "\n",
              "  <div id=\"df-810aab5d-2ba3-4670-8b7d-783dfd3a4c57\">\n",
              "    <div class=\"colab-df-container\">\n",
              "      <div>\n",
              "<style scoped>\n",
              "    .dataframe tbody tr th:only-of-type {\n",
              "        vertical-align: middle;\n",
              "    }\n",
              "\n",
              "    .dataframe tbody tr th {\n",
              "        vertical-align: top;\n",
              "    }\n",
              "\n",
              "    .dataframe thead th {\n",
              "        text-align: right;\n",
              "    }\n",
              "</style>\n",
              "<table border=\"1\" class=\"dataframe\">\n",
              "  <thead>\n",
              "    <tr style=\"text-align: right;\">\n",
              "      <th></th>\n",
              "      <th>contrast_0</th>\n",
              "      <th>contrast_45</th>\n",
              "      <th>contrast_90</th>\n",
              "      <th>contrast_135</th>\n",
              "      <th>correlation_0</th>\n",
              "      <th>correlation_45</th>\n",
              "      <th>correlation_90</th>\n",
              "      <th>correlation_135</th>\n",
              "      <th>homogeneity_0</th>\n",
              "      <th>homogeneity_45</th>\n",
              "      <th>homogeneity_90</th>\n",
              "      <th>homogeneity_135</th>\n",
              "      <th>energy_0</th>\n",
              "      <th>energy_45</th>\n",
              "      <th>energy_90</th>\n",
              "      <th>energy_135</th>\n",
              "      <th>label</th>\n",
              "    </tr>\n",
              "  </thead>\n",
              "  <tbody>\n",
              "    <tr>\n",
              "      <th>0</th>\n",
              "      <td>580.475883</td>\n",
              "      <td>873.868382</td>\n",
              "      <td>815.220356</td>\n",
              "      <td>867.007882</td>\n",
              "      <td>0.932769</td>\n",
              "      <td>0.897329</td>\n",
              "      <td>0.903480</td>\n",
              "      <td>0.897776</td>\n",
              "      <td>0.112373</td>\n",
              "      <td>0.079750</td>\n",
              "      <td>0.076062</td>\n",
              "      <td>0.074653</td>\n",
              "      <td>0.019019</td>\n",
              "      <td>0.017124</td>\n",
              "      <td>0.016592</td>\n",
              "      <td>0.016923</td>\n",
              "      <td>HSIL</td>\n",
              "    </tr>\n",
              "    <tr>\n",
              "      <th>1</th>\n",
              "      <td>949.253661</td>\n",
              "      <td>1000.891880</td>\n",
              "      <td>800.325151</td>\n",
              "      <td>1049.330161</td>\n",
              "      <td>0.757385</td>\n",
              "      <td>0.744192</td>\n",
              "      <td>0.797818</td>\n",
              "      <td>0.732004</td>\n",
              "      <td>0.134885</td>\n",
              "      <td>0.125873</td>\n",
              "      <td>0.140946</td>\n",
              "      <td>0.134849</td>\n",
              "      <td>0.046222</td>\n",
              "      <td>0.040711</td>\n",
              "      <td>0.044914</td>\n",
              "      <td>0.044697</td>\n",
              "      <td>HSIL</td>\n",
              "    </tr>\n",
              "    <tr>\n",
              "      <th>2</th>\n",
              "      <td>946.330462</td>\n",
              "      <td>1276.026770</td>\n",
              "      <td>999.146425</td>\n",
              "      <td>927.341612</td>\n",
              "      <td>0.853925</td>\n",
              "      <td>0.794233</td>\n",
              "      <td>0.839198</td>\n",
              "      <td>0.850649</td>\n",
              "      <td>0.077277</td>\n",
              "      <td>0.076657</td>\n",
              "      <td>0.082384</td>\n",
              "      <td>0.074915</td>\n",
              "      <td>0.018977</td>\n",
              "      <td>0.017145</td>\n",
              "      <td>0.018277</td>\n",
              "      <td>0.017296</td>\n",
              "      <td>HSIL</td>\n",
              "    </tr>\n",
              "    <tr>\n",
              "      <th>3</th>\n",
              "      <td>999.020098</td>\n",
              "      <td>926.708507</td>\n",
              "      <td>945.580103</td>\n",
              "      <td>1275.953748</td>\n",
              "      <td>0.839233</td>\n",
              "      <td>0.850770</td>\n",
              "      <td>0.854098</td>\n",
              "      <td>0.794271</td>\n",
              "      <td>0.082494</td>\n",
              "      <td>0.075022</td>\n",
              "      <td>0.077252</td>\n",
              "      <td>0.076287</td>\n",
              "      <td>0.018038</td>\n",
              "      <td>0.017262</td>\n",
              "      <td>0.018915</td>\n",
              "      <td>0.016974</td>\n",
              "      <td>HSIL</td>\n",
              "    </tr>\n",
              "    <tr>\n",
              "      <th>4</th>\n",
              "      <td>945.090439</td>\n",
              "      <td>1274.726353</td>\n",
              "      <td>998.829601</td>\n",
              "      <td>926.726056</td>\n",
              "      <td>0.854166</td>\n",
              "      <td>0.794457</td>\n",
              "      <td>0.839231</td>\n",
              "      <td>0.850764</td>\n",
              "      <td>0.077696</td>\n",
              "      <td>0.076422</td>\n",
              "      <td>0.082219</td>\n",
              "      <td>0.074952</td>\n",
              "      <td>0.018791</td>\n",
              "      <td>0.017022</td>\n",
              "      <td>0.018214</td>\n",
              "      <td>0.017219</td>\n",
              "      <td>HSIL</td>\n",
              "    </tr>\n",
              "    <tr>\n",
              "      <th>...</th>\n",
              "      <td>...</td>\n",
              "      <td>...</td>\n",
              "      <td>...</td>\n",
              "      <td>...</td>\n",
              "      <td>...</td>\n",
              "      <td>...</td>\n",
              "      <td>...</td>\n",
              "      <td>...</td>\n",
              "      <td>...</td>\n",
              "      <td>...</td>\n",
              "      <td>...</td>\n",
              "      <td>...</td>\n",
              "      <td>...</td>\n",
              "      <td>...</td>\n",
              "      <td>...</td>\n",
              "      <td>...</td>\n",
              "      <td>...</td>\n",
              "    </tr>\n",
              "    <tr>\n",
              "      <th>352</th>\n",
              "      <td>2979.518662</td>\n",
              "      <td>3250.041344</td>\n",
              "      <td>2641.481481</td>\n",
              "      <td>3128.195419</td>\n",
              "      <td>0.522462</td>\n",
              "      <td>0.468360</td>\n",
              "      <td>0.578882</td>\n",
              "      <td>0.486578</td>\n",
              "      <td>0.037078</td>\n",
              "      <td>0.037555</td>\n",
              "      <td>0.045620</td>\n",
              "      <td>0.038107</td>\n",
              "      <td>0.011638</td>\n",
              "      <td>0.011732</td>\n",
              "      <td>0.012079</td>\n",
              "      <td>0.011777</td>\n",
              "      <td>SquamousCellCarcinoma</td>\n",
              "    </tr>\n",
              "    <tr>\n",
              "      <th>353</th>\n",
              "      <td>3806.005742</td>\n",
              "      <td>3748.521416</td>\n",
              "      <td>3013.545220</td>\n",
              "      <td>3665.443040</td>\n",
              "      <td>0.208192</td>\n",
              "      <td>0.214055</td>\n",
              "      <td>0.369026</td>\n",
              "      <td>0.234306</td>\n",
              "      <td>0.239714</td>\n",
              "      <td>0.236142</td>\n",
              "      <td>0.266322</td>\n",
              "      <td>0.240092</td>\n",
              "      <td>0.175679</td>\n",
              "      <td>0.178114</td>\n",
              "      <td>0.194478</td>\n",
              "      <td>0.178068</td>\n",
              "      <td>SquamousCellCarcinoma</td>\n",
              "    </tr>\n",
              "    <tr>\n",
              "      <th>354</th>\n",
              "      <td>5086.191645</td>\n",
              "      <td>5078.376115</td>\n",
              "      <td>4189.065604</td>\n",
              "      <td>5220.514575</td>\n",
              "      <td>0.564751</td>\n",
              "      <td>0.565282</td>\n",
              "      <td>0.638179</td>\n",
              "      <td>0.552167</td>\n",
              "      <td>0.052508</td>\n",
              "      <td>0.047526</td>\n",
              "      <td>0.063392</td>\n",
              "      <td>0.055703</td>\n",
              "      <td>0.019094</td>\n",
              "      <td>0.017245</td>\n",
              "      <td>0.021340</td>\n",
              "      <td>0.021045</td>\n",
              "      <td>SquamousCellCarcinoma</td>\n",
              "    </tr>\n",
              "    <tr>\n",
              "      <th>355</th>\n",
              "      <td>7344.964255</td>\n",
              "      <td>7170.697799</td>\n",
              "      <td>5364.485070</td>\n",
              "      <td>7476.991820</td>\n",
              "      <td>0.172071</td>\n",
              "      <td>0.184662</td>\n",
              "      <td>0.388908</td>\n",
              "      <td>0.148669</td>\n",
              "      <td>0.024841</td>\n",
              "      <td>0.028531</td>\n",
              "      <td>0.035063</td>\n",
              "      <td>0.027503</td>\n",
              "      <td>0.010897</td>\n",
              "      <td>0.011208</td>\n",
              "      <td>0.011898</td>\n",
              "      <td>0.011091</td>\n",
              "      <td>SquamousCellCarcinoma</td>\n",
              "    </tr>\n",
              "    <tr>\n",
              "      <th>356</th>\n",
              "      <td>4499.411283</td>\n",
              "      <td>4340.538667</td>\n",
              "      <td>3405.525983</td>\n",
              "      <td>4728.093694</td>\n",
              "      <td>0.564531</td>\n",
              "      <td>0.578179</td>\n",
              "      <td>0.671655</td>\n",
              "      <td>0.539899</td>\n",
              "      <td>0.040467</td>\n",
              "      <td>0.039632</td>\n",
              "      <td>0.052487</td>\n",
              "      <td>0.042897</td>\n",
              "      <td>0.012339</td>\n",
              "      <td>0.012574</td>\n",
              "      <td>0.014440</td>\n",
              "      <td>0.012836</td>\n",
              "      <td>SquamousCellCarcinoma</td>\n",
              "    </tr>\n",
              "  </tbody>\n",
              "</table>\n",
              "<p>357 rows × 17 columns</p>\n",
              "</div>\n",
              "      <button class=\"colab-df-convert\" onclick=\"convertToInteractive('df-810aab5d-2ba3-4670-8b7d-783dfd3a4c57')\"\n",
              "              title=\"Convert this dataframe to an interactive table.\"\n",
              "              style=\"display:none;\">\n",
              "        \n",
              "  <svg xmlns=\"http://www.w3.org/2000/svg\" height=\"24px\"viewBox=\"0 0 24 24\"\n",
              "       width=\"24px\">\n",
              "    <path d=\"M0 0h24v24H0V0z\" fill=\"none\"/>\n",
              "    <path d=\"M18.56 5.44l.94 2.06.94-2.06 2.06-.94-2.06-.94-.94-2.06-.94 2.06-2.06.94zm-11 1L8.5 8.5l.94-2.06 2.06-.94-2.06-.94L8.5 2.5l-.94 2.06-2.06.94zm10 10l.94 2.06.94-2.06 2.06-.94-2.06-.94-.94-2.06-.94 2.06-2.06.94z\"/><path d=\"M17.41 7.96l-1.37-1.37c-.4-.4-.92-.59-1.43-.59-.52 0-1.04.2-1.43.59L10.3 9.45l-7.72 7.72c-.78.78-.78 2.05 0 2.83L4 21.41c.39.39.9.59 1.41.59.51 0 1.02-.2 1.41-.59l7.78-7.78 2.81-2.81c.8-.78.8-2.07 0-2.86zM5.41 20L4 18.59l7.72-7.72 1.47 1.35L5.41 20z\"/>\n",
              "  </svg>\n",
              "      </button>\n",
              "      \n",
              "  <style>\n",
              "    .colab-df-container {\n",
              "      display:flex;\n",
              "      flex-wrap:wrap;\n",
              "      gap: 12px;\n",
              "    }\n",
              "\n",
              "    .colab-df-convert {\n",
              "      background-color: #E8F0FE;\n",
              "      border: none;\n",
              "      border-radius: 50%;\n",
              "      cursor: pointer;\n",
              "      display: none;\n",
              "      fill: #1967D2;\n",
              "      height: 32px;\n",
              "      padding: 0 0 0 0;\n",
              "      width: 32px;\n",
              "    }\n",
              "\n",
              "    .colab-df-convert:hover {\n",
              "      background-color: #E2EBFA;\n",
              "      box-shadow: 0px 1px 2px rgba(60, 64, 67, 0.3), 0px 1px 3px 1px rgba(60, 64, 67, 0.15);\n",
              "      fill: #174EA6;\n",
              "    }\n",
              "\n",
              "    [theme=dark] .colab-df-convert {\n",
              "      background-color: #3B4455;\n",
              "      fill: #D2E3FC;\n",
              "    }\n",
              "\n",
              "    [theme=dark] .colab-df-convert:hover {\n",
              "      background-color: #434B5C;\n",
              "      box-shadow: 0px 1px 3px 1px rgba(0, 0, 0, 0.15);\n",
              "      filter: drop-shadow(0px 1px 2px rgba(0, 0, 0, 0.3));\n",
              "      fill: #FFFFFF;\n",
              "    }\n",
              "  </style>\n",
              "\n",
              "      <script>\n",
              "        const buttonEl =\n",
              "          document.querySelector('#df-810aab5d-2ba3-4670-8b7d-783dfd3a4c57 button.colab-df-convert');\n",
              "        buttonEl.style.display =\n",
              "          google.colab.kernel.accessAllowed ? 'block' : 'none';\n",
              "\n",
              "        async function convertToInteractive(key) {\n",
              "          const element = document.querySelector('#df-810aab5d-2ba3-4670-8b7d-783dfd3a4c57');\n",
              "          const dataTable =\n",
              "            await google.colab.kernel.invokeFunction('convertToInteractive',\n",
              "                                                     [key], {});\n",
              "          if (!dataTable) return;\n",
              "\n",
              "          const docLinkHtml = 'Like what you see? Visit the ' +\n",
              "            '<a target=\"_blank\" href=https://colab.research.google.com/notebooks/data_table.ipynb>data table notebook</a>'\n",
              "            + ' to learn more about interactive tables.';\n",
              "          element.innerHTML = '';\n",
              "          dataTable['output_type'] = 'display_data';\n",
              "          await google.colab.output.renderOutput(dataTable, element);\n",
              "          const docLink = document.createElement('div');\n",
              "          docLink.innerHTML = docLinkHtml;\n",
              "          element.appendChild(docLink);\n",
              "        }\n",
              "      </script>\n",
              "    </div>\n",
              "  </div>\n",
              "  "
            ]
          },
          "metadata": {},
          "execution_count": 330
        }
      ]
    },
    {
      "cell_type": "code",
      "source": [
        "from sklearn import preprocessing\n",
        "\n",
        "le = preprocessing.LabelEncoder()\n",
        "le.fit(glcm_df.label)\n",
        "glcm_df['label'] = le.transform(glcm_df.label)\n"
      ],
      "metadata": {
        "id": "bjBrNgg2Jb8s"
      },
      "execution_count": null,
      "outputs": []
    },
    {
      "cell_type": "code",
      "source": [
        "contrast = glcm_df[['contrast_0','contrast_45','contrast_90','contrast_135']].mean(axis=1)\n",
        "contrast"
      ],
      "metadata": {
        "colab": {
          "base_uri": "https://localhost:8080/"
        },
        "outputId": "f6c7c832-ca48-4cce-9f8c-c3670b490595",
        "id": "6E6knjiPJb8t"
      },
      "execution_count": null,
      "outputs": [
        {
          "output_type": "execute_result",
          "data": {
            "text/plain": [
              "0       784.143126\n",
              "1       949.950213\n",
              "2      1037.211317\n",
              "3      1036.815614\n",
              "4      1036.343112\n",
              "          ...     \n",
              "352    2999.809227\n",
              "353    3558.378854\n",
              "354    4893.536985\n",
              "355    6839.284736\n",
              "356    4243.392407\n",
              "Length: 357, dtype: float64"
            ]
          },
          "metadata": {},
          "execution_count": 332
        }
      ]
    },
    {
      "cell_type": "code",
      "source": [
        "correlation = glcm_df[['correlation_0','correlation_45','correlation_90','correlation_135']].mean(axis=1)\n",
        "correlation"
      ],
      "metadata": {
        "colab": {
          "base_uri": "https://localhost:8080/"
        },
        "outputId": "ca6eeb6e-a849-4e17-f52f-8dc685f40e37",
        "id": "usctEwL-Jb8v"
      },
      "execution_count": null,
      "outputs": [
        {
          "output_type": "execute_result",
          "data": {
            "text/plain": [
              "0      0.907839\n",
              "1      0.757850\n",
              "2      0.834501\n",
              "3      0.834593\n",
              "4      0.834655\n",
              "         ...   \n",
              "352    0.514071\n",
              "353    0.256395\n",
              "354    0.580095\n",
              "355    0.223577\n",
              "356    0.588566\n",
              "Length: 357, dtype: float64"
            ]
          },
          "metadata": {},
          "execution_count": 333
        }
      ]
    },
    {
      "cell_type": "code",
      "source": [
        "homogeneity = glcm_df[['homogeneity_0','homogeneity_45','homogeneity_90','homogeneity_135']].mean(axis=1)\n",
        "homogeneity"
      ],
      "metadata": {
        "colab": {
          "base_uri": "https://localhost:8080/"
        },
        "outputId": "7927a091-095b-4c17-d176-7d2a6e0ad449",
        "id": "tg9cR6rgJb8x"
      },
      "execution_count": null,
      "outputs": [
        {
          "output_type": "execute_result",
          "data": {
            "text/plain": [
              "0      0.085710\n",
              "1      0.134138\n",
              "2      0.077808\n",
              "3      0.077764\n",
              "4      0.077822\n",
              "         ...   \n",
              "352    0.039590\n",
              "353    0.245567\n",
              "354    0.054782\n",
              "355    0.028984\n",
              "356    0.043871\n",
              "Length: 357, dtype: float64"
            ]
          },
          "metadata": {},
          "execution_count": 334
        }
      ]
    },
    {
      "cell_type": "code",
      "source": [
        "energy = glcm_df[['energy_0','energy_45','energy_90','energy_135']].mean(axis=1)\n",
        "energy"
      ],
      "metadata": {
        "colab": {
          "base_uri": "https://localhost:8080/"
        },
        "outputId": "555d8ae8-fe71-4348-e01f-9e4345c54f89",
        "id": "pKiNq_OFJb8z"
      },
      "execution_count": null,
      "outputs": [
        {
          "output_type": "execute_result",
          "data": {
            "text/plain": [
              "0      0.017415\n",
              "1      0.044136\n",
              "2      0.017924\n",
              "3      0.017797\n",
              "4      0.017811\n",
              "         ...   \n",
              "352    0.011807\n",
              "353    0.181585\n",
              "354    0.019681\n",
              "355    0.011274\n",
              "356    0.013047\n",
              "Length: 357, dtype: float64"
            ]
          },
          "metadata": {},
          "execution_count": 335
        }
      ]
    },
    {
      "cell_type": "code",
      "source": [
        "train = pd.DataFrame({\"contrast\" : contrast , \"correlation\" : correlation, \"homogeneity\" : homogeneity, \"energy\" : energy, \"entropy\" : entr, \"label\" : glcm_df['label']})\n",
        "train"
      ],
      "metadata": {
        "colab": {
          "base_uri": "https://localhost:8080/",
          "height": 424
        },
        "outputId": "08992434-efd2-4017-9680-c5d80fceae4b",
        "id": "gaJmnPgzJb81"
      },
      "execution_count": null,
      "outputs": [
        {
          "output_type": "execute_result",
          "data": {
            "text/plain": [
              "        contrast  correlation  homogeneity    energy   entropy  label\n",
              "0     784.143126     0.907839     0.085710  0.017415  5.156508      1\n",
              "1     949.950213     0.757850     0.134138  0.044136  4.602605      1\n",
              "2    1037.211317     0.834501     0.077808  0.017924  5.252736      1\n",
              "3    1036.815614     0.834593     0.077764  0.017797  5.252232      1\n",
              "4    1036.343112     0.834655     0.077822  0.017811  5.251450      1\n",
              "..           ...          ...          ...       ...       ...    ...\n",
              "352  2999.809227     0.514071     0.039590  0.011807  5.157535      2\n",
              "353  3558.378854     0.256395     0.245567  0.181585  3.883750      2\n",
              "354  4893.536985     0.580095     0.054782  0.019681  5.252862      2\n",
              "355  6839.284736     0.223577     0.028984  0.011274  5.250656      2\n",
              "356  4243.392407     0.588566     0.043871  0.013047  5.291946      2\n",
              "\n",
              "[357 rows x 6 columns]"
            ],
            "text/html": [
              "\n",
              "  <div id=\"df-7a22491f-ca19-45b1-99b6-a9418703d822\">\n",
              "    <div class=\"colab-df-container\">\n",
              "      <div>\n",
              "<style scoped>\n",
              "    .dataframe tbody tr th:only-of-type {\n",
              "        vertical-align: middle;\n",
              "    }\n",
              "\n",
              "    .dataframe tbody tr th {\n",
              "        vertical-align: top;\n",
              "    }\n",
              "\n",
              "    .dataframe thead th {\n",
              "        text-align: right;\n",
              "    }\n",
              "</style>\n",
              "<table border=\"1\" class=\"dataframe\">\n",
              "  <thead>\n",
              "    <tr style=\"text-align: right;\">\n",
              "      <th></th>\n",
              "      <th>contrast</th>\n",
              "      <th>correlation</th>\n",
              "      <th>homogeneity</th>\n",
              "      <th>energy</th>\n",
              "      <th>entropy</th>\n",
              "      <th>label</th>\n",
              "    </tr>\n",
              "  </thead>\n",
              "  <tbody>\n",
              "    <tr>\n",
              "      <th>0</th>\n",
              "      <td>784.143126</td>\n",
              "      <td>0.907839</td>\n",
              "      <td>0.085710</td>\n",
              "      <td>0.017415</td>\n",
              "      <td>5.156508</td>\n",
              "      <td>1</td>\n",
              "    </tr>\n",
              "    <tr>\n",
              "      <th>1</th>\n",
              "      <td>949.950213</td>\n",
              "      <td>0.757850</td>\n",
              "      <td>0.134138</td>\n",
              "      <td>0.044136</td>\n",
              "      <td>4.602605</td>\n",
              "      <td>1</td>\n",
              "    </tr>\n",
              "    <tr>\n",
              "      <th>2</th>\n",
              "      <td>1037.211317</td>\n",
              "      <td>0.834501</td>\n",
              "      <td>0.077808</td>\n",
              "      <td>0.017924</td>\n",
              "      <td>5.252736</td>\n",
              "      <td>1</td>\n",
              "    </tr>\n",
              "    <tr>\n",
              "      <th>3</th>\n",
              "      <td>1036.815614</td>\n",
              "      <td>0.834593</td>\n",
              "      <td>0.077764</td>\n",
              "      <td>0.017797</td>\n",
              "      <td>5.252232</td>\n",
              "      <td>1</td>\n",
              "    </tr>\n",
              "    <tr>\n",
              "      <th>4</th>\n",
              "      <td>1036.343112</td>\n",
              "      <td>0.834655</td>\n",
              "      <td>0.077822</td>\n",
              "      <td>0.017811</td>\n",
              "      <td>5.251450</td>\n",
              "      <td>1</td>\n",
              "    </tr>\n",
              "    <tr>\n",
              "      <th>...</th>\n",
              "      <td>...</td>\n",
              "      <td>...</td>\n",
              "      <td>...</td>\n",
              "      <td>...</td>\n",
              "      <td>...</td>\n",
              "      <td>...</td>\n",
              "    </tr>\n",
              "    <tr>\n",
              "      <th>352</th>\n",
              "      <td>2999.809227</td>\n",
              "      <td>0.514071</td>\n",
              "      <td>0.039590</td>\n",
              "      <td>0.011807</td>\n",
              "      <td>5.157535</td>\n",
              "      <td>2</td>\n",
              "    </tr>\n",
              "    <tr>\n",
              "      <th>353</th>\n",
              "      <td>3558.378854</td>\n",
              "      <td>0.256395</td>\n",
              "      <td>0.245567</td>\n",
              "      <td>0.181585</td>\n",
              "      <td>3.883750</td>\n",
              "      <td>2</td>\n",
              "    </tr>\n",
              "    <tr>\n",
              "      <th>354</th>\n",
              "      <td>4893.536985</td>\n",
              "      <td>0.580095</td>\n",
              "      <td>0.054782</td>\n",
              "      <td>0.019681</td>\n",
              "      <td>5.252862</td>\n",
              "      <td>2</td>\n",
              "    </tr>\n",
              "    <tr>\n",
              "      <th>355</th>\n",
              "      <td>6839.284736</td>\n",
              "      <td>0.223577</td>\n",
              "      <td>0.028984</td>\n",
              "      <td>0.011274</td>\n",
              "      <td>5.250656</td>\n",
              "      <td>2</td>\n",
              "    </tr>\n",
              "    <tr>\n",
              "      <th>356</th>\n",
              "      <td>4243.392407</td>\n",
              "      <td>0.588566</td>\n",
              "      <td>0.043871</td>\n",
              "      <td>0.013047</td>\n",
              "      <td>5.291946</td>\n",
              "      <td>2</td>\n",
              "    </tr>\n",
              "  </tbody>\n",
              "</table>\n",
              "<p>357 rows × 6 columns</p>\n",
              "</div>\n",
              "      <button class=\"colab-df-convert\" onclick=\"convertToInteractive('df-7a22491f-ca19-45b1-99b6-a9418703d822')\"\n",
              "              title=\"Convert this dataframe to an interactive table.\"\n",
              "              style=\"display:none;\">\n",
              "        \n",
              "  <svg xmlns=\"http://www.w3.org/2000/svg\" height=\"24px\"viewBox=\"0 0 24 24\"\n",
              "       width=\"24px\">\n",
              "    <path d=\"M0 0h24v24H0V0z\" fill=\"none\"/>\n",
              "    <path d=\"M18.56 5.44l.94 2.06.94-2.06 2.06-.94-2.06-.94-.94-2.06-.94 2.06-2.06.94zm-11 1L8.5 8.5l.94-2.06 2.06-.94-2.06-.94L8.5 2.5l-.94 2.06-2.06.94zm10 10l.94 2.06.94-2.06 2.06-.94-2.06-.94-.94-2.06-.94 2.06-2.06.94z\"/><path d=\"M17.41 7.96l-1.37-1.37c-.4-.4-.92-.59-1.43-.59-.52 0-1.04.2-1.43.59L10.3 9.45l-7.72 7.72c-.78.78-.78 2.05 0 2.83L4 21.41c.39.39.9.59 1.41.59.51 0 1.02-.2 1.41-.59l7.78-7.78 2.81-2.81c.8-.78.8-2.07 0-2.86zM5.41 20L4 18.59l7.72-7.72 1.47 1.35L5.41 20z\"/>\n",
              "  </svg>\n",
              "      </button>\n",
              "      \n",
              "  <style>\n",
              "    .colab-df-container {\n",
              "      display:flex;\n",
              "      flex-wrap:wrap;\n",
              "      gap: 12px;\n",
              "    }\n",
              "\n",
              "    .colab-df-convert {\n",
              "      background-color: #E8F0FE;\n",
              "      border: none;\n",
              "      border-radius: 50%;\n",
              "      cursor: pointer;\n",
              "      display: none;\n",
              "      fill: #1967D2;\n",
              "      height: 32px;\n",
              "      padding: 0 0 0 0;\n",
              "      width: 32px;\n",
              "    }\n",
              "\n",
              "    .colab-df-convert:hover {\n",
              "      background-color: #E2EBFA;\n",
              "      box-shadow: 0px 1px 2px rgba(60, 64, 67, 0.3), 0px 1px 3px 1px rgba(60, 64, 67, 0.15);\n",
              "      fill: #174EA6;\n",
              "    }\n",
              "\n",
              "    [theme=dark] .colab-df-convert {\n",
              "      background-color: #3B4455;\n",
              "      fill: #D2E3FC;\n",
              "    }\n",
              "\n",
              "    [theme=dark] .colab-df-convert:hover {\n",
              "      background-color: #434B5C;\n",
              "      box-shadow: 0px 1px 3px 1px rgba(0, 0, 0, 0.15);\n",
              "      filter: drop-shadow(0px 1px 2px rgba(0, 0, 0, 0.3));\n",
              "      fill: #FFFFFF;\n",
              "    }\n",
              "  </style>\n",
              "\n",
              "      <script>\n",
              "        const buttonEl =\n",
              "          document.querySelector('#df-7a22491f-ca19-45b1-99b6-a9418703d822 button.colab-df-convert');\n",
              "        buttonEl.style.display =\n",
              "          google.colab.kernel.accessAllowed ? 'block' : 'none';\n",
              "\n",
              "        async function convertToInteractive(key) {\n",
              "          const element = document.querySelector('#df-7a22491f-ca19-45b1-99b6-a9418703d822');\n",
              "          const dataTable =\n",
              "            await google.colab.kernel.invokeFunction('convertToInteractive',\n",
              "                                                     [key], {});\n",
              "          if (!dataTable) return;\n",
              "\n",
              "          const docLinkHtml = 'Like what you see? Visit the ' +\n",
              "            '<a target=\"_blank\" href=https://colab.research.google.com/notebooks/data_table.ipynb>data table notebook</a>'\n",
              "            + ' to learn more about interactive tables.';\n",
              "          element.innerHTML = '';\n",
              "          dataTable['output_type'] = 'display_data';\n",
              "          await google.colab.output.renderOutput(dataTable, element);\n",
              "          const docLink = document.createElement('div');\n",
              "          docLink.innerHTML = docLinkHtml;\n",
              "          element.appendChild(docLink);\n",
              "        }\n",
              "      </script>\n",
              "    </div>\n",
              "  </div>\n",
              "  "
            ]
          },
          "metadata": {},
          "execution_count": 336
        }
      ]
    },
    {
      "cell_type": "code",
      "source": [
        "train.label.describe()"
      ],
      "metadata": {
        "colab": {
          "base_uri": "https://localhost:8080/"
        },
        "outputId": "c3486e6b-5765-4fc0-aeea-07da2165378e",
        "id": "C31n9whOJb81"
      },
      "execution_count": null,
      "outputs": [
        {
          "output_type": "execute_result",
          "data": {
            "text/plain": [
              "count    357.000000\n",
              "mean       0.997199\n",
              "std        0.407090\n",
              "min        0.000000\n",
              "25%        1.000000\n",
              "50%        1.000000\n",
              "75%        1.000000\n",
              "max        2.000000\n",
              "Name: label, dtype: float64"
            ]
          },
          "metadata": {},
          "execution_count": 337
        }
      ]
    },
    {
      "cell_type": "code",
      "source": [
        "train.groupby(\"label\")[\"label\"].count()"
      ],
      "metadata": {
        "outputId": "fb582ee9-1f9d-477d-df89-c12b01d5fdc8",
        "colab": {
          "base_uri": "https://localhost:8080/"
        },
        "id": "VLvDrpxNJb82"
      },
      "execution_count": null,
      "outputs": [
        {
          "output_type": "execute_result",
          "data": {
            "text/plain": [
              "label\n",
              "0     30\n",
              "1    298\n",
              "2     29\n",
              "Name: label, dtype: int64"
            ]
          },
          "metadata": {},
          "execution_count": 338
        }
      ]
    },
    {
      "cell_type": "markdown",
      "source": [
        "##============== **GLCM Test** =============================="
      ],
      "metadata": {
        "id": "itYWKiVEJb83"
      }
    },
    {
      "cell_type": "code",
      "source": [
        "data=[]\n",
        "labels=[]\n",
        "random.seed(42)\n",
        "entr =[]\n",
        "dir = '/content/drive/MyDrive/data_new/3class_60_40/test/'\n",
        "imagePaths = sorted(list(os.listdir(dir)))\n",
        "random.shuffle(imagePaths)\n",
        "print(imagePaths)\n",
        "\n",
        "for img in imagePaths:\n",
        "\n",
        "    path=sorted(list(os.listdir(dir+img)))\n",
        "    #print(path)\n",
        "\n",
        "    for i in path:\n",
        "    \n",
        "      image = cv2.imread(dir+img+'/'+i)\n",
        "      #print(image)\n",
        "      image = cv2.resize(image, (512,512))\n",
        "      gray = cv2.cvtColor(image, cv2.COLOR_RGB2GRAY)\n",
        "      h, w = gray.shape\n",
        "      ymin, ymax, xmin, xmax = h//3, h*2//3, w//3, w*2//3\n",
        "      crop = gray[ymin:ymax, xmin:xmax]\n",
        "         \n",
        "      resize = cv2.resize(crop, (0,0), fx=0.5, fy=0.5)\n",
        "      ent = entropy (resize)\n",
        "      entr.append(ent)\n",
        "            \n",
        "      data.append(resize)\n",
        "\n",
        "      l = label = img\n",
        "\n",
        "      \n",
        "      labels.append(l)"
      ],
      "metadata": {
        "colab": {
          "base_uri": "https://localhost:8080/"
        },
        "outputId": "ee20c322-3819-4a56-ea51-c6dd93ba2a4c",
        "id": "gdQ5gticJb84"
      },
      "execution_count": null,
      "outputs": [
        {
          "output_type": "stream",
          "name": "stdout",
          "text": [
            "['HSIL', 'Adenocarcinoma', 'SquamousCellCarcinoma']\n"
          ]
        }
      ]
    },
    {
      "cell_type": "code",
      "source": [
        "from skimage.feature import greycomatrix, greycoprops\n",
        "from sklearn.metrics.cluster import entropy\n",
        "\n",
        "# ----------------- calculate greycomatrix() & greycoprops() for angle 0, 45, 90, 135 ----------------------------------\n",
        "def calc_glcm_all_agls(img, label, props, dists=[5], agls=[0, np.pi/4, np.pi/2, 3*np.pi/4], lvl=256, sym=True, norm=True):\n",
        "    \n",
        "    glcm = greycomatrix(img, \n",
        "                        distances=dists, \n",
        "                        angles=agls, \n",
        "                        levels=lvl,\n",
        "                        symmetric=sym, \n",
        "                        normed=norm)\n",
        "    feature = []\n",
        "    glcm_props = [propery for name in props for propery in greycoprops(glcm, name)[0]]\n",
        "    for item in glcm_props:\n",
        "            feature.append(item)\n",
        "    feature.append(label) \n",
        "    \n",
        "    return feature\n",
        "\n",
        "\n",
        "# ----------------- call calc_glcm_all_agls() for all properties ----------------------------------\n",
        "properties = ['contrast', 'correlation', 'homogeneity', 'energy']\n",
        "\n",
        "glcm_all_agls = []\n",
        "for img, label in zip(data, labels): \n",
        "    glcm_all_agls.append(\n",
        "            calc_glcm_all_agls(img, \n",
        "                                label, \n",
        "                                props=properties)\n",
        "                            )\n",
        " \n",
        "columns = []\n",
        "angles = ['0', '45', '90','135']\n",
        "for name in properties :\n",
        "    for ang in angles:\n",
        "        columns.append(name + \"_\" + ang)\n",
        "        \n",
        "columns.append(\"label\")"
      ],
      "metadata": {
        "id": "mE1daMf0Jb85"
      },
      "execution_count": null,
      "outputs": []
    },
    {
      "cell_type": "code",
      "source": [
        "import pandas as pd \n",
        "\n",
        "# Create the pandas DataFrame for GLCM features data\n",
        "glcm_df = pd.DataFrame(glcm_all_agls, \n",
        "                      columns = columns)\n"
      ],
      "metadata": {
        "id": "ZIbEKo4eJb85"
      },
      "execution_count": null,
      "outputs": []
    },
    {
      "cell_type": "code",
      "source": [
        "glcm_df"
      ],
      "metadata": {
        "colab": {
          "base_uri": "https://localhost:8080/",
          "height": 488
        },
        "id": "KAWFAzuSJb86",
        "outputId": "6cd69594-29ca-459c-914c-3bfbc6db513d"
      },
      "execution_count": null,
      "outputs": [
        {
          "output_type": "execute_result",
          "data": {
            "text/plain": [
              "      contrast_0  contrast_45  contrast_90  contrast_135  correlation_0  \\\n",
              "0     572.994258   863.112284   804.300459    859.024539       0.933713   \n",
              "1     998.806058  1274.657942   945.004594    926.516211       0.839203   \n",
              "2     945.625754   926.847264   999.013063   1275.991225       0.854111   \n",
              "3     945.846827   927.230518   998.939707   1274.758328       0.853972   \n",
              "4    1289.047804  1484.378198  1188.529716   1479.006395       0.752402   \n",
              "..           ...          ...          ...           ...            ...   \n",
              "234  3913.719925  3808.638013  3342.885013   3612.996579       0.108374   \n",
              "235  2895.714470  2922.610351  2337.605800   2935.847561       0.220049   \n",
              "236  3729.192363  3794.007436  3702.704421   4058.100387       0.440571   \n",
              "237  2969.375395  2994.046401  2587.456216   3122.582540       0.419442   \n",
              "238  3315.323859  3555.792683  2949.832759   3342.602469       0.241797   \n",
              "\n",
              "     correlation_45  correlation_90  correlation_135  homogeneity_0  \\\n",
              "0          0.898692        0.904880         0.898803       0.112109   \n",
              "1          0.794432        0.854158         0.850772       0.082154   \n",
              "2          0.850772        0.839263         0.794299       0.077797   \n",
              "3          0.850640        0.839170         0.794391       0.077289   \n",
              "4          0.717905        0.778259         0.718764       0.110497   \n",
              "..              ...             ...              ...            ...   \n",
              "234        0.137122        0.243129         0.178033       0.048126   \n",
              "235        0.229751        0.373128         0.226620       0.073046   \n",
              "236        0.433626        0.440342         0.394260       0.042662   \n",
              "237        0.418282        0.493341         0.393106       0.042882   \n",
              "238        0.199538        0.343878         0.246145       0.037840   \n",
              "\n",
              "     homogeneity_45  homogeneity_90  homogeneity_135  energy_0  energy_45  \\\n",
              "0          0.079164        0.075487         0.077028  0.020261   0.017688   \n",
              "1          0.076072        0.077243         0.075121  0.018058   0.016971   \n",
              "2          0.074928        0.082525         0.076645  0.018811   0.017238   \n",
              "3          0.074940        0.082092         0.076450  0.018958   0.017278   \n",
              "4          0.100093        0.111840         0.105972  0.027969   0.025948   \n",
              "..              ...             ...              ...       ...        ...   \n",
              "234        0.048310        0.056934         0.053771  0.016595   0.016642   \n",
              "235        0.074349        0.086467         0.075244  0.022102   0.022264   \n",
              "236        0.037624        0.035137         0.031307  0.012131   0.011892   \n",
              "237        0.042720        0.043587         0.039368  0.013274   0.013544   \n",
              "238        0.034830        0.038795         0.038934  0.013715   0.013684   \n",
              "\n",
              "     energy_90  energy_135                  label  \n",
              "0     0.017357    0.017923                   HSIL  \n",
              "1     0.018899    0.017245                   HSIL  \n",
              "2     0.018197    0.017024                   HSIL  \n",
              "3     0.018292    0.017142                   HSIL  \n",
              "4     0.028137    0.029363                   HSIL  \n",
              "..         ...         ...                    ...  \n",
              "234   0.017743    0.017329  SquamousCellCarcinoma  \n",
              "235   0.023989    0.022238  SquamousCellCarcinoma  \n",
              "236   0.011876    0.011792  SquamousCellCarcinoma  \n",
              "237   0.013702    0.013222  SquamousCellCarcinoma  \n",
              "238   0.013779    0.013816  SquamousCellCarcinoma  \n",
              "\n",
              "[239 rows x 17 columns]"
            ],
            "text/html": [
              "\n",
              "  <div id=\"df-718d1ba3-cbbd-4691-98c2-42b0f8f34537\">\n",
              "    <div class=\"colab-df-container\">\n",
              "      <div>\n",
              "<style scoped>\n",
              "    .dataframe tbody tr th:only-of-type {\n",
              "        vertical-align: middle;\n",
              "    }\n",
              "\n",
              "    .dataframe tbody tr th {\n",
              "        vertical-align: top;\n",
              "    }\n",
              "\n",
              "    .dataframe thead th {\n",
              "        text-align: right;\n",
              "    }\n",
              "</style>\n",
              "<table border=\"1\" class=\"dataframe\">\n",
              "  <thead>\n",
              "    <tr style=\"text-align: right;\">\n",
              "      <th></th>\n",
              "      <th>contrast_0</th>\n",
              "      <th>contrast_45</th>\n",
              "      <th>contrast_90</th>\n",
              "      <th>contrast_135</th>\n",
              "      <th>correlation_0</th>\n",
              "      <th>correlation_45</th>\n",
              "      <th>correlation_90</th>\n",
              "      <th>correlation_135</th>\n",
              "      <th>homogeneity_0</th>\n",
              "      <th>homogeneity_45</th>\n",
              "      <th>homogeneity_90</th>\n",
              "      <th>homogeneity_135</th>\n",
              "      <th>energy_0</th>\n",
              "      <th>energy_45</th>\n",
              "      <th>energy_90</th>\n",
              "      <th>energy_135</th>\n",
              "      <th>label</th>\n",
              "    </tr>\n",
              "  </thead>\n",
              "  <tbody>\n",
              "    <tr>\n",
              "      <th>0</th>\n",
              "      <td>572.994258</td>\n",
              "      <td>863.112284</td>\n",
              "      <td>804.300459</td>\n",
              "      <td>859.024539</td>\n",
              "      <td>0.933713</td>\n",
              "      <td>0.898692</td>\n",
              "      <td>0.904880</td>\n",
              "      <td>0.898803</td>\n",
              "      <td>0.112109</td>\n",
              "      <td>0.079164</td>\n",
              "      <td>0.075487</td>\n",
              "      <td>0.077028</td>\n",
              "      <td>0.020261</td>\n",
              "      <td>0.017688</td>\n",
              "      <td>0.017357</td>\n",
              "      <td>0.017923</td>\n",
              "      <td>HSIL</td>\n",
              "    </tr>\n",
              "    <tr>\n",
              "      <th>1</th>\n",
              "      <td>998.806058</td>\n",
              "      <td>1274.657942</td>\n",
              "      <td>945.004594</td>\n",
              "      <td>926.516211</td>\n",
              "      <td>0.839203</td>\n",
              "      <td>0.794432</td>\n",
              "      <td>0.854158</td>\n",
              "      <td>0.850772</td>\n",
              "      <td>0.082154</td>\n",
              "      <td>0.076072</td>\n",
              "      <td>0.077243</td>\n",
              "      <td>0.075121</td>\n",
              "      <td>0.018058</td>\n",
              "      <td>0.016971</td>\n",
              "      <td>0.018899</td>\n",
              "      <td>0.017245</td>\n",
              "      <td>HSIL</td>\n",
              "    </tr>\n",
              "    <tr>\n",
              "      <th>2</th>\n",
              "      <td>945.625754</td>\n",
              "      <td>926.847264</td>\n",
              "      <td>999.013063</td>\n",
              "      <td>1275.991225</td>\n",
              "      <td>0.854111</td>\n",
              "      <td>0.850772</td>\n",
              "      <td>0.839263</td>\n",
              "      <td>0.794299</td>\n",
              "      <td>0.077797</td>\n",
              "      <td>0.074928</td>\n",
              "      <td>0.082525</td>\n",
              "      <td>0.076645</td>\n",
              "      <td>0.018811</td>\n",
              "      <td>0.017238</td>\n",
              "      <td>0.018197</td>\n",
              "      <td>0.017024</td>\n",
              "      <td>HSIL</td>\n",
              "    </tr>\n",
              "    <tr>\n",
              "      <th>3</th>\n",
              "      <td>945.846827</td>\n",
              "      <td>927.230518</td>\n",
              "      <td>998.939707</td>\n",
              "      <td>1274.758328</td>\n",
              "      <td>0.853972</td>\n",
              "      <td>0.850640</td>\n",
              "      <td>0.839170</td>\n",
              "      <td>0.794391</td>\n",
              "      <td>0.077289</td>\n",
              "      <td>0.074940</td>\n",
              "      <td>0.082092</td>\n",
              "      <td>0.076450</td>\n",
              "      <td>0.018958</td>\n",
              "      <td>0.017278</td>\n",
              "      <td>0.018292</td>\n",
              "      <td>0.017142</td>\n",
              "      <td>HSIL</td>\n",
              "    </tr>\n",
              "    <tr>\n",
              "      <th>4</th>\n",
              "      <td>1289.047804</td>\n",
              "      <td>1484.378198</td>\n",
              "      <td>1188.529716</td>\n",
              "      <td>1479.006395</td>\n",
              "      <td>0.752402</td>\n",
              "      <td>0.717905</td>\n",
              "      <td>0.778259</td>\n",
              "      <td>0.718764</td>\n",
              "      <td>0.110497</td>\n",
              "      <td>0.100093</td>\n",
              "      <td>0.111840</td>\n",
              "      <td>0.105972</td>\n",
              "      <td>0.027969</td>\n",
              "      <td>0.025948</td>\n",
              "      <td>0.028137</td>\n",
              "      <td>0.029363</td>\n",
              "      <td>HSIL</td>\n",
              "    </tr>\n",
              "    <tr>\n",
              "      <th>...</th>\n",
              "      <td>...</td>\n",
              "      <td>...</td>\n",
              "      <td>...</td>\n",
              "      <td>...</td>\n",
              "      <td>...</td>\n",
              "      <td>...</td>\n",
              "      <td>...</td>\n",
              "      <td>...</td>\n",
              "      <td>...</td>\n",
              "      <td>...</td>\n",
              "      <td>...</td>\n",
              "      <td>...</td>\n",
              "      <td>...</td>\n",
              "      <td>...</td>\n",
              "      <td>...</td>\n",
              "      <td>...</td>\n",
              "      <td>...</td>\n",
              "    </tr>\n",
              "    <tr>\n",
              "      <th>234</th>\n",
              "      <td>3913.719925</td>\n",
              "      <td>3808.638013</td>\n",
              "      <td>3342.885013</td>\n",
              "      <td>3612.996579</td>\n",
              "      <td>0.108374</td>\n",
              "      <td>0.137122</td>\n",
              "      <td>0.243129</td>\n",
              "      <td>0.178033</td>\n",
              "      <td>0.048126</td>\n",
              "      <td>0.048310</td>\n",
              "      <td>0.056934</td>\n",
              "      <td>0.053771</td>\n",
              "      <td>0.016595</td>\n",
              "      <td>0.016642</td>\n",
              "      <td>0.017743</td>\n",
              "      <td>0.017329</td>\n",
              "      <td>SquamousCellCarcinoma</td>\n",
              "    </tr>\n",
              "    <tr>\n",
              "      <th>235</th>\n",
              "      <td>2895.714470</td>\n",
              "      <td>2922.610351</td>\n",
              "      <td>2337.605800</td>\n",
              "      <td>2935.847561</td>\n",
              "      <td>0.220049</td>\n",
              "      <td>0.229751</td>\n",
              "      <td>0.373128</td>\n",
              "      <td>0.226620</td>\n",
              "      <td>0.073046</td>\n",
              "      <td>0.074349</td>\n",
              "      <td>0.086467</td>\n",
              "      <td>0.075244</td>\n",
              "      <td>0.022102</td>\n",
              "      <td>0.022264</td>\n",
              "      <td>0.023989</td>\n",
              "      <td>0.022238</td>\n",
              "      <td>SquamousCellCarcinoma</td>\n",
              "    </tr>\n",
              "    <tr>\n",
              "      <th>236</th>\n",
              "      <td>3729.192363</td>\n",
              "      <td>3794.007436</td>\n",
              "      <td>3702.704421</td>\n",
              "      <td>4058.100387</td>\n",
              "      <td>0.440571</td>\n",
              "      <td>0.433626</td>\n",
              "      <td>0.440342</td>\n",
              "      <td>0.394260</td>\n",
              "      <td>0.042662</td>\n",
              "      <td>0.037624</td>\n",
              "      <td>0.035137</td>\n",
              "      <td>0.031307</td>\n",
              "      <td>0.012131</td>\n",
              "      <td>0.011892</td>\n",
              "      <td>0.011876</td>\n",
              "      <td>0.011792</td>\n",
              "      <td>SquamousCellCarcinoma</td>\n",
              "    </tr>\n",
              "    <tr>\n",
              "      <th>237</th>\n",
              "      <td>2969.375395</td>\n",
              "      <td>2994.046401</td>\n",
              "      <td>2587.456216</td>\n",
              "      <td>3122.582540</td>\n",
              "      <td>0.419442</td>\n",
              "      <td>0.418282</td>\n",
              "      <td>0.493341</td>\n",
              "      <td>0.393106</td>\n",
              "      <td>0.042882</td>\n",
              "      <td>0.042720</td>\n",
              "      <td>0.043587</td>\n",
              "      <td>0.039368</td>\n",
              "      <td>0.013274</td>\n",
              "      <td>0.013544</td>\n",
              "      <td>0.013702</td>\n",
              "      <td>0.013222</td>\n",
              "      <td>SquamousCellCarcinoma</td>\n",
              "    </tr>\n",
              "    <tr>\n",
              "      <th>238</th>\n",
              "      <td>3315.323859</td>\n",
              "      <td>3555.792683</td>\n",
              "      <td>2949.832759</td>\n",
              "      <td>3342.602469</td>\n",
              "      <td>0.241797</td>\n",
              "      <td>0.199538</td>\n",
              "      <td>0.343878</td>\n",
              "      <td>0.246145</td>\n",
              "      <td>0.037840</td>\n",
              "      <td>0.034830</td>\n",
              "      <td>0.038795</td>\n",
              "      <td>0.038934</td>\n",
              "      <td>0.013715</td>\n",
              "      <td>0.013684</td>\n",
              "      <td>0.013779</td>\n",
              "      <td>0.013816</td>\n",
              "      <td>SquamousCellCarcinoma</td>\n",
              "    </tr>\n",
              "  </tbody>\n",
              "</table>\n",
              "<p>239 rows × 17 columns</p>\n",
              "</div>\n",
              "      <button class=\"colab-df-convert\" onclick=\"convertToInteractive('df-718d1ba3-cbbd-4691-98c2-42b0f8f34537')\"\n",
              "              title=\"Convert this dataframe to an interactive table.\"\n",
              "              style=\"display:none;\">\n",
              "        \n",
              "  <svg xmlns=\"http://www.w3.org/2000/svg\" height=\"24px\"viewBox=\"0 0 24 24\"\n",
              "       width=\"24px\">\n",
              "    <path d=\"M0 0h24v24H0V0z\" fill=\"none\"/>\n",
              "    <path d=\"M18.56 5.44l.94 2.06.94-2.06 2.06-.94-2.06-.94-.94-2.06-.94 2.06-2.06.94zm-11 1L8.5 8.5l.94-2.06 2.06-.94-2.06-.94L8.5 2.5l-.94 2.06-2.06.94zm10 10l.94 2.06.94-2.06 2.06-.94-2.06-.94-.94-2.06-.94 2.06-2.06.94z\"/><path d=\"M17.41 7.96l-1.37-1.37c-.4-.4-.92-.59-1.43-.59-.52 0-1.04.2-1.43.59L10.3 9.45l-7.72 7.72c-.78.78-.78 2.05 0 2.83L4 21.41c.39.39.9.59 1.41.59.51 0 1.02-.2 1.41-.59l7.78-7.78 2.81-2.81c.8-.78.8-2.07 0-2.86zM5.41 20L4 18.59l7.72-7.72 1.47 1.35L5.41 20z\"/>\n",
              "  </svg>\n",
              "      </button>\n",
              "      \n",
              "  <style>\n",
              "    .colab-df-container {\n",
              "      display:flex;\n",
              "      flex-wrap:wrap;\n",
              "      gap: 12px;\n",
              "    }\n",
              "\n",
              "    .colab-df-convert {\n",
              "      background-color: #E8F0FE;\n",
              "      border: none;\n",
              "      border-radius: 50%;\n",
              "      cursor: pointer;\n",
              "      display: none;\n",
              "      fill: #1967D2;\n",
              "      height: 32px;\n",
              "      padding: 0 0 0 0;\n",
              "      width: 32px;\n",
              "    }\n",
              "\n",
              "    .colab-df-convert:hover {\n",
              "      background-color: #E2EBFA;\n",
              "      box-shadow: 0px 1px 2px rgba(60, 64, 67, 0.3), 0px 1px 3px 1px rgba(60, 64, 67, 0.15);\n",
              "      fill: #174EA6;\n",
              "    }\n",
              "\n",
              "    [theme=dark] .colab-df-convert {\n",
              "      background-color: #3B4455;\n",
              "      fill: #D2E3FC;\n",
              "    }\n",
              "\n",
              "    [theme=dark] .colab-df-convert:hover {\n",
              "      background-color: #434B5C;\n",
              "      box-shadow: 0px 1px 3px 1px rgba(0, 0, 0, 0.15);\n",
              "      filter: drop-shadow(0px 1px 2px rgba(0, 0, 0, 0.3));\n",
              "      fill: #FFFFFF;\n",
              "    }\n",
              "  </style>\n",
              "\n",
              "      <script>\n",
              "        const buttonEl =\n",
              "          document.querySelector('#df-718d1ba3-cbbd-4691-98c2-42b0f8f34537 button.colab-df-convert');\n",
              "        buttonEl.style.display =\n",
              "          google.colab.kernel.accessAllowed ? 'block' : 'none';\n",
              "\n",
              "        async function convertToInteractive(key) {\n",
              "          const element = document.querySelector('#df-718d1ba3-cbbd-4691-98c2-42b0f8f34537');\n",
              "          const dataTable =\n",
              "            await google.colab.kernel.invokeFunction('convertToInteractive',\n",
              "                                                     [key], {});\n",
              "          if (!dataTable) return;\n",
              "\n",
              "          const docLinkHtml = 'Like what you see? Visit the ' +\n",
              "            '<a target=\"_blank\" href=https://colab.research.google.com/notebooks/data_table.ipynb>data table notebook</a>'\n",
              "            + ' to learn more about interactive tables.';\n",
              "          element.innerHTML = '';\n",
              "          dataTable['output_type'] = 'display_data';\n",
              "          await google.colab.output.renderOutput(dataTable, element);\n",
              "          const docLink = document.createElement('div');\n",
              "          docLink.innerHTML = docLinkHtml;\n",
              "          element.appendChild(docLink);\n",
              "        }\n",
              "      </script>\n",
              "    </div>\n",
              "  </div>\n",
              "  "
            ]
          },
          "metadata": {},
          "execution_count": 342
        }
      ]
    },
    {
      "cell_type": "code",
      "source": [
        "from sklearn import preprocessing\n",
        "\n",
        "le = preprocessing.LabelEncoder()\n",
        "le.fit(glcm_df.label)\n",
        "glcm_df['label'] = le.transform(glcm_df.label)\n"
      ],
      "metadata": {
        "id": "8s0vkRKNJb86"
      },
      "execution_count": null,
      "outputs": []
    },
    {
      "cell_type": "code",
      "source": [
        "contrast = glcm_df[['contrast_0','contrast_45','contrast_90','contrast_135']].mean(axis=1)\n",
        "contrast"
      ],
      "metadata": {
        "colab": {
          "base_uri": "https://localhost:8080/"
        },
        "id": "-9PI9NIOJb87",
        "outputId": "29db2906-5ddf-4c22-e90f-f4551ea958f1"
      },
      "execution_count": null,
      "outputs": [
        {
          "output_type": "execute_result",
          "data": {
            "text/plain": [
              "0       774.857885\n",
              "1      1036.246201\n",
              "2      1036.869327\n",
              "3      1036.693845\n",
              "4      1360.240528\n",
              "          ...     \n",
              "234    3669.559883\n",
              "235    2772.944545\n",
              "236    3821.001152\n",
              "237    2918.365138\n",
              "238    3290.887942\n",
              "Length: 239, dtype: float64"
            ]
          },
          "metadata": {},
          "execution_count": 344
        }
      ]
    },
    {
      "cell_type": "code",
      "source": [
        "correlation = glcm_df[['correlation_0','correlation_45','correlation_90','correlation_135']].mean(axis=1)\n",
        "correlation"
      ],
      "metadata": {
        "colab": {
          "base_uri": "https://localhost:8080/"
        },
        "id": "1t4ta1mTJb87",
        "outputId": "e683b166-8f82-49f1-b7c8-fe5f444ed379"
      },
      "execution_count": null,
      "outputs": [
        {
          "output_type": "execute_result",
          "data": {
            "text/plain": [
              "0      0.909022\n",
              "1      0.834641\n",
              "2      0.834611\n",
              "3      0.834543\n",
              "4      0.741833\n",
              "         ...   \n",
              "234    0.166665\n",
              "235    0.262387\n",
              "236    0.427200\n",
              "237    0.431043\n",
              "238    0.257840\n",
              "Length: 239, dtype: float64"
            ]
          },
          "metadata": {},
          "execution_count": 345
        }
      ]
    },
    {
      "cell_type": "code",
      "source": [
        "homogeneity = glcm_df[['homogeneity_0','homogeneity_45','homogeneity_90','homogeneity_135']].mean(axis=1)\n",
        "homogeneity"
      ],
      "metadata": {
        "colab": {
          "base_uri": "https://localhost:8080/"
        },
        "id": "jCLPVVHsJb88",
        "outputId": "f6607281-2ace-4de2-90cc-321e8ab14d2e"
      },
      "execution_count": null,
      "outputs": [
        {
          "output_type": "execute_result",
          "data": {
            "text/plain": [
              "0      0.085947\n",
              "1      0.077648\n",
              "2      0.077974\n",
              "3      0.077692\n",
              "4      0.107100\n",
              "         ...   \n",
              "234    0.051785\n",
              "235    0.077276\n",
              "236    0.036682\n",
              "237    0.042139\n",
              "238    0.037600\n",
              "Length: 239, dtype: float64"
            ]
          },
          "metadata": {},
          "execution_count": 346
        }
      ]
    },
    {
      "cell_type": "code",
      "source": [
        "energy = glcm_df[['energy_0','energy_45','energy_90','energy_135']].mean(axis=1)\n",
        "energy"
      ],
      "metadata": {
        "colab": {
          "base_uri": "https://localhost:8080/"
        },
        "id": "aX5rh9USJb88",
        "outputId": "42dd8603-7a39-49de-865c-487fcc77fe34"
      },
      "execution_count": null,
      "outputs": [
        {
          "output_type": "execute_result",
          "data": {
            "text/plain": [
              "0      0.018307\n",
              "1      0.017793\n",
              "2      0.017818\n",
              "3      0.017917\n",
              "4      0.027854\n",
              "         ...   \n",
              "234    0.017077\n",
              "235    0.022648\n",
              "236    0.011922\n",
              "237    0.013435\n",
              "238    0.013748\n",
              "Length: 239, dtype: float64"
            ]
          },
          "metadata": {},
          "execution_count": 347
        }
      ]
    },
    {
      "cell_type": "code",
      "source": [
        "test = pd.DataFrame({\"contrast\" : contrast , \"correlation\" : correlation, \"homogeneity\" : homogeneity, \"energy\" : energy, \"entropy\" : entr, \"label\" : glcm_df['label']})\n",
        "test"
      ],
      "metadata": {
        "colab": {
          "base_uri": "https://localhost:8080/",
          "height": 424
        },
        "id": "VO9l7AcSJb89",
        "outputId": "bef8df9d-7fff-435f-9adb-02ecd97879a1"
      },
      "execution_count": null,
      "outputs": [
        {
          "output_type": "execute_result",
          "data": {
            "text/plain": [
              "        contrast  correlation  homogeneity    energy   entropy  label\n",
              "0     774.857885     0.909022     0.085947  0.018307  5.147212      1\n",
              "1    1036.246201     0.834641     0.077648  0.017793  5.251024      1\n",
              "2    1036.869327     0.834611     0.077974  0.017818  5.252612      1\n",
              "3    1036.693845     0.834543     0.077692  0.017917  5.251720      1\n",
              "4    1360.240528     0.741833     0.107100  0.027854  4.800459      1\n",
              "..           ...          ...          ...       ...       ...    ...\n",
              "234  3669.559883     0.166665     0.051785  0.017077  4.675695      2\n",
              "235  2772.944545     0.262387     0.077276  0.022648  4.450462      2\n",
              "236  3821.001152     0.427200     0.036682  0.011922  5.081075      2\n",
              "237  2918.365138     0.431043     0.042139  0.013435  4.927196      2\n",
              "238  3290.887942     0.257840     0.037600  0.013748  4.833714      2\n",
              "\n",
              "[239 rows x 6 columns]"
            ],
            "text/html": [
              "\n",
              "  <div id=\"df-62ad76d9-d1e6-46e1-8b91-ac627b91b98d\">\n",
              "    <div class=\"colab-df-container\">\n",
              "      <div>\n",
              "<style scoped>\n",
              "    .dataframe tbody tr th:only-of-type {\n",
              "        vertical-align: middle;\n",
              "    }\n",
              "\n",
              "    .dataframe tbody tr th {\n",
              "        vertical-align: top;\n",
              "    }\n",
              "\n",
              "    .dataframe thead th {\n",
              "        text-align: right;\n",
              "    }\n",
              "</style>\n",
              "<table border=\"1\" class=\"dataframe\">\n",
              "  <thead>\n",
              "    <tr style=\"text-align: right;\">\n",
              "      <th></th>\n",
              "      <th>contrast</th>\n",
              "      <th>correlation</th>\n",
              "      <th>homogeneity</th>\n",
              "      <th>energy</th>\n",
              "      <th>entropy</th>\n",
              "      <th>label</th>\n",
              "    </tr>\n",
              "  </thead>\n",
              "  <tbody>\n",
              "    <tr>\n",
              "      <th>0</th>\n",
              "      <td>774.857885</td>\n",
              "      <td>0.909022</td>\n",
              "      <td>0.085947</td>\n",
              "      <td>0.018307</td>\n",
              "      <td>5.147212</td>\n",
              "      <td>1</td>\n",
              "    </tr>\n",
              "    <tr>\n",
              "      <th>1</th>\n",
              "      <td>1036.246201</td>\n",
              "      <td>0.834641</td>\n",
              "      <td>0.077648</td>\n",
              "      <td>0.017793</td>\n",
              "      <td>5.251024</td>\n",
              "      <td>1</td>\n",
              "    </tr>\n",
              "    <tr>\n",
              "      <th>2</th>\n",
              "      <td>1036.869327</td>\n",
              "      <td>0.834611</td>\n",
              "      <td>0.077974</td>\n",
              "      <td>0.017818</td>\n",
              "      <td>5.252612</td>\n",
              "      <td>1</td>\n",
              "    </tr>\n",
              "    <tr>\n",
              "      <th>3</th>\n",
              "      <td>1036.693845</td>\n",
              "      <td>0.834543</td>\n",
              "      <td>0.077692</td>\n",
              "      <td>0.017917</td>\n",
              "      <td>5.251720</td>\n",
              "      <td>1</td>\n",
              "    </tr>\n",
              "    <tr>\n",
              "      <th>4</th>\n",
              "      <td>1360.240528</td>\n",
              "      <td>0.741833</td>\n",
              "      <td>0.107100</td>\n",
              "      <td>0.027854</td>\n",
              "      <td>4.800459</td>\n",
              "      <td>1</td>\n",
              "    </tr>\n",
              "    <tr>\n",
              "      <th>...</th>\n",
              "      <td>...</td>\n",
              "      <td>...</td>\n",
              "      <td>...</td>\n",
              "      <td>...</td>\n",
              "      <td>...</td>\n",
              "      <td>...</td>\n",
              "    </tr>\n",
              "    <tr>\n",
              "      <th>234</th>\n",
              "      <td>3669.559883</td>\n",
              "      <td>0.166665</td>\n",
              "      <td>0.051785</td>\n",
              "      <td>0.017077</td>\n",
              "      <td>4.675695</td>\n",
              "      <td>2</td>\n",
              "    </tr>\n",
              "    <tr>\n",
              "      <th>235</th>\n",
              "      <td>2772.944545</td>\n",
              "      <td>0.262387</td>\n",
              "      <td>0.077276</td>\n",
              "      <td>0.022648</td>\n",
              "      <td>4.450462</td>\n",
              "      <td>2</td>\n",
              "    </tr>\n",
              "    <tr>\n",
              "      <th>236</th>\n",
              "      <td>3821.001152</td>\n",
              "      <td>0.427200</td>\n",
              "      <td>0.036682</td>\n",
              "      <td>0.011922</td>\n",
              "      <td>5.081075</td>\n",
              "      <td>2</td>\n",
              "    </tr>\n",
              "    <tr>\n",
              "      <th>237</th>\n",
              "      <td>2918.365138</td>\n",
              "      <td>0.431043</td>\n",
              "      <td>0.042139</td>\n",
              "      <td>0.013435</td>\n",
              "      <td>4.927196</td>\n",
              "      <td>2</td>\n",
              "    </tr>\n",
              "    <tr>\n",
              "      <th>238</th>\n",
              "      <td>3290.887942</td>\n",
              "      <td>0.257840</td>\n",
              "      <td>0.037600</td>\n",
              "      <td>0.013748</td>\n",
              "      <td>4.833714</td>\n",
              "      <td>2</td>\n",
              "    </tr>\n",
              "  </tbody>\n",
              "</table>\n",
              "<p>239 rows × 6 columns</p>\n",
              "</div>\n",
              "      <button class=\"colab-df-convert\" onclick=\"convertToInteractive('df-62ad76d9-d1e6-46e1-8b91-ac627b91b98d')\"\n",
              "              title=\"Convert this dataframe to an interactive table.\"\n",
              "              style=\"display:none;\">\n",
              "        \n",
              "  <svg xmlns=\"http://www.w3.org/2000/svg\" height=\"24px\"viewBox=\"0 0 24 24\"\n",
              "       width=\"24px\">\n",
              "    <path d=\"M0 0h24v24H0V0z\" fill=\"none\"/>\n",
              "    <path d=\"M18.56 5.44l.94 2.06.94-2.06 2.06-.94-2.06-.94-.94-2.06-.94 2.06-2.06.94zm-11 1L8.5 8.5l.94-2.06 2.06-.94-2.06-.94L8.5 2.5l-.94 2.06-2.06.94zm10 10l.94 2.06.94-2.06 2.06-.94-2.06-.94-.94-2.06-.94 2.06-2.06.94z\"/><path d=\"M17.41 7.96l-1.37-1.37c-.4-.4-.92-.59-1.43-.59-.52 0-1.04.2-1.43.59L10.3 9.45l-7.72 7.72c-.78.78-.78 2.05 0 2.83L4 21.41c.39.39.9.59 1.41.59.51 0 1.02-.2 1.41-.59l7.78-7.78 2.81-2.81c.8-.78.8-2.07 0-2.86zM5.41 20L4 18.59l7.72-7.72 1.47 1.35L5.41 20z\"/>\n",
              "  </svg>\n",
              "      </button>\n",
              "      \n",
              "  <style>\n",
              "    .colab-df-container {\n",
              "      display:flex;\n",
              "      flex-wrap:wrap;\n",
              "      gap: 12px;\n",
              "    }\n",
              "\n",
              "    .colab-df-convert {\n",
              "      background-color: #E8F0FE;\n",
              "      border: none;\n",
              "      border-radius: 50%;\n",
              "      cursor: pointer;\n",
              "      display: none;\n",
              "      fill: #1967D2;\n",
              "      height: 32px;\n",
              "      padding: 0 0 0 0;\n",
              "      width: 32px;\n",
              "    }\n",
              "\n",
              "    .colab-df-convert:hover {\n",
              "      background-color: #E2EBFA;\n",
              "      box-shadow: 0px 1px 2px rgba(60, 64, 67, 0.3), 0px 1px 3px 1px rgba(60, 64, 67, 0.15);\n",
              "      fill: #174EA6;\n",
              "    }\n",
              "\n",
              "    [theme=dark] .colab-df-convert {\n",
              "      background-color: #3B4455;\n",
              "      fill: #D2E3FC;\n",
              "    }\n",
              "\n",
              "    [theme=dark] .colab-df-convert:hover {\n",
              "      background-color: #434B5C;\n",
              "      box-shadow: 0px 1px 3px 1px rgba(0, 0, 0, 0.15);\n",
              "      filter: drop-shadow(0px 1px 2px rgba(0, 0, 0, 0.3));\n",
              "      fill: #FFFFFF;\n",
              "    }\n",
              "  </style>\n",
              "\n",
              "      <script>\n",
              "        const buttonEl =\n",
              "          document.querySelector('#df-62ad76d9-d1e6-46e1-8b91-ac627b91b98d button.colab-df-convert');\n",
              "        buttonEl.style.display =\n",
              "          google.colab.kernel.accessAllowed ? 'block' : 'none';\n",
              "\n",
              "        async function convertToInteractive(key) {\n",
              "          const element = document.querySelector('#df-62ad76d9-d1e6-46e1-8b91-ac627b91b98d');\n",
              "          const dataTable =\n",
              "            await google.colab.kernel.invokeFunction('convertToInteractive',\n",
              "                                                     [key], {});\n",
              "          if (!dataTable) return;\n",
              "\n",
              "          const docLinkHtml = 'Like what you see? Visit the ' +\n",
              "            '<a target=\"_blank\" href=https://colab.research.google.com/notebooks/data_table.ipynb>data table notebook</a>'\n",
              "            + ' to learn more about interactive tables.';\n",
              "          element.innerHTML = '';\n",
              "          dataTable['output_type'] = 'display_data';\n",
              "          await google.colab.output.renderOutput(dataTable, element);\n",
              "          const docLink = document.createElement('div');\n",
              "          docLink.innerHTML = docLinkHtml;\n",
              "          element.appendChild(docLink);\n",
              "        }\n",
              "      </script>\n",
              "    </div>\n",
              "  </div>\n",
              "  "
            ]
          },
          "metadata": {},
          "execution_count": 348
        }
      ]
    },
    {
      "cell_type": "code",
      "source": [
        "test.label.describe()"
      ],
      "metadata": {
        "colab": {
          "base_uri": "https://localhost:8080/"
        },
        "id": "wfa5xa6bJb8-",
        "outputId": "9db9f502-3db5-4822-b211-dc74f39127ae"
      },
      "execution_count": null,
      "outputs": [
        {
          "output_type": "execute_result",
          "data": {
            "text/plain": [
              "count    239.000000\n",
              "mean       1.004184\n",
              "std        0.434808\n",
              "min        0.000000\n",
              "25%        1.000000\n",
              "50%        1.000000\n",
              "75%        1.000000\n",
              "max        2.000000\n",
              "Name: label, dtype: float64"
            ]
          },
          "metadata": {},
          "execution_count": 349
        }
      ]
    },
    {
      "cell_type": "code",
      "source": [
        "test.groupby(\"label\")[\"label\"].count()"
      ],
      "metadata": {
        "colab": {
          "base_uri": "https://localhost:8080/"
        },
        "outputId": "4aa37a0a-25f5-47eb-fcdb-495640a84685",
        "id": "qwNjRWXzJb8-"
      },
      "execution_count": null,
      "outputs": [
        {
          "output_type": "execute_result",
          "data": {
            "text/plain": [
              "label\n",
              "0     22\n",
              "1    194\n",
              "2     23\n",
              "Name: label, dtype: int64"
            ]
          },
          "metadata": {},
          "execution_count": 350
        }
      ]
    },
    {
      "cell_type": "code",
      "source": [],
      "metadata": {
        "id": "7-Tvyb3r6z3W"
      },
      "execution_count": null,
      "outputs": []
    },
    {
      "cell_type": "markdown",
      "source": [
        "##Preparation Data"
      ],
      "metadata": {
        "id": "0im4HGABJwIe"
      }
    },
    {
      "cell_type": "code",
      "source": [
        "x_train = train.drop(['label'], axis='columns')\n",
        "y_train = train.label\n",
        "x_test = test.drop(['label'], axis='columns')\n",
        "y_test = test.label"
      ],
      "metadata": {
        "id": "TObhY965JwIf"
      },
      "execution_count": null,
      "outputs": []
    },
    {
      "cell_type": "code",
      "source": [
        "y_test[y_test==0]"
      ],
      "metadata": {
        "colab": {
          "base_uri": "https://localhost:8080/"
        },
        "outputId": "0a4a3fb4-9b2d-442c-e5d7-6816efb57e39",
        "id": "YA2EXUrDJwIh"
      },
      "execution_count": null,
      "outputs": [
        {
          "output_type": "execute_result",
          "data": {
            "text/plain": [
              "194    0\n",
              "195    0\n",
              "196    0\n",
              "197    0\n",
              "198    0\n",
              "199    0\n",
              "200    0\n",
              "201    0\n",
              "202    0\n",
              "203    0\n",
              "204    0\n",
              "205    0\n",
              "206    0\n",
              "207    0\n",
              "208    0\n",
              "209    0\n",
              "210    0\n",
              "211    0\n",
              "212    0\n",
              "213    0\n",
              "214    0\n",
              "215    0\n",
              "Name: label, dtype: int64"
            ]
          },
          "metadata": {},
          "execution_count": 352
        }
      ]
    },
    {
      "cell_type": "code",
      "source": [
        "x_train=x_train.to_numpy()\n",
        "x_test=x_test.to_numpy() \n",
        "y_train = y_train.to_numpy() \n",
        "y_test = y_test.to_numpy()"
      ],
      "metadata": {
        "id": "w1ADzvJ1JwIi"
      },
      "execution_count": null,
      "outputs": []
    },
    {
      "cell_type": "code",
      "source": [
        "scaler = MinMaxScaler(feature_range=(0, 1))\n",
        "scaler.fit(x_train)\n",
        "x_train = scaler.transform(x_train)"
      ],
      "metadata": {
        "id": "25j0RHliq734"
      },
      "execution_count": null,
      "outputs": []
    },
    {
      "cell_type": "code",
      "source": [
        "scaler.fit(x_test)\n",
        "x_test = scaler.transform(x_test)"
      ],
      "metadata": {
        "id": "UHMSGV4GrLOW"
      },
      "execution_count": null,
      "outputs": []
    },
    {
      "cell_type": "code",
      "source": [
        "y_train = y_train.ravel() \n",
        "lb = preprocessing.LabelBinarizer()\n",
        "y_train = lb.fit_transform(y_train)"
      ],
      "metadata": {
        "id": "tdkxcBAptyFO"
      },
      "execution_count": null,
      "outputs": []
    },
    {
      "cell_type": "code",
      "source": [
        "y_test = y_test.ravel() \n",
        "lb = preprocessing.LabelBinarizer()\n",
        "y_test = lb.fit_transform(y_test)"
      ],
      "metadata": {
        "id": "1JEagWJKuBln"
      },
      "execution_count": null,
      "outputs": []
    },
    {
      "cell_type": "code",
      "source": [
        "y_test"
      ],
      "metadata": {
        "colab": {
          "base_uri": "https://localhost:8080/"
        },
        "id": "1kEN8qyOuGMt",
        "outputId": "3a620520-057b-44c9-b75d-b266221be006"
      },
      "execution_count": null,
      "outputs": [
        {
          "output_type": "execute_result",
          "data": {
            "text/plain": [
              "array([[0, 1, 0],\n",
              "       [0, 1, 0],\n",
              "       [0, 1, 0],\n",
              "       [0, 1, 0],\n",
              "       [0, 1, 0],\n",
              "       [0, 1, 0],\n",
              "       [0, 1, 0],\n",
              "       [0, 1, 0],\n",
              "       [0, 1, 0],\n",
              "       [0, 1, 0],\n",
              "       [0, 1, 0],\n",
              "       [0, 1, 0],\n",
              "       [0, 1, 0],\n",
              "       [0, 1, 0],\n",
              "       [0, 1, 0],\n",
              "       [0, 1, 0],\n",
              "       [0, 1, 0],\n",
              "       [0, 1, 0],\n",
              "       [0, 1, 0],\n",
              "       [0, 1, 0],\n",
              "       [0, 1, 0],\n",
              "       [0, 1, 0],\n",
              "       [0, 1, 0],\n",
              "       [0, 1, 0],\n",
              "       [0, 1, 0],\n",
              "       [0, 1, 0],\n",
              "       [0, 1, 0],\n",
              "       [0, 1, 0],\n",
              "       [0, 1, 0],\n",
              "       [0, 1, 0],\n",
              "       [0, 1, 0],\n",
              "       [0, 1, 0],\n",
              "       [0, 1, 0],\n",
              "       [0, 1, 0],\n",
              "       [0, 1, 0],\n",
              "       [0, 1, 0],\n",
              "       [0, 1, 0],\n",
              "       [0, 1, 0],\n",
              "       [0, 1, 0],\n",
              "       [0, 1, 0],\n",
              "       [0, 1, 0],\n",
              "       [0, 1, 0],\n",
              "       [0, 1, 0],\n",
              "       [0, 1, 0],\n",
              "       [0, 1, 0],\n",
              "       [0, 1, 0],\n",
              "       [0, 1, 0],\n",
              "       [0, 1, 0],\n",
              "       [0, 1, 0],\n",
              "       [0, 1, 0],\n",
              "       [0, 1, 0],\n",
              "       [0, 1, 0],\n",
              "       [0, 1, 0],\n",
              "       [0, 1, 0],\n",
              "       [0, 1, 0],\n",
              "       [0, 1, 0],\n",
              "       [0, 1, 0],\n",
              "       [0, 1, 0],\n",
              "       [0, 1, 0],\n",
              "       [0, 1, 0],\n",
              "       [0, 1, 0],\n",
              "       [0, 1, 0],\n",
              "       [0, 1, 0],\n",
              "       [0, 1, 0],\n",
              "       [0, 1, 0],\n",
              "       [0, 1, 0],\n",
              "       [0, 1, 0],\n",
              "       [0, 1, 0],\n",
              "       [0, 1, 0],\n",
              "       [0, 1, 0],\n",
              "       [0, 1, 0],\n",
              "       [0, 1, 0],\n",
              "       [0, 1, 0],\n",
              "       [0, 1, 0],\n",
              "       [0, 1, 0],\n",
              "       [0, 1, 0],\n",
              "       [0, 1, 0],\n",
              "       [0, 1, 0],\n",
              "       [0, 1, 0],\n",
              "       [0, 1, 0],\n",
              "       [0, 1, 0],\n",
              "       [0, 1, 0],\n",
              "       [0, 1, 0],\n",
              "       [0, 1, 0],\n",
              "       [0, 1, 0],\n",
              "       [0, 1, 0],\n",
              "       [0, 1, 0],\n",
              "       [0, 1, 0],\n",
              "       [0, 1, 0],\n",
              "       [0, 1, 0],\n",
              "       [0, 1, 0],\n",
              "       [0, 1, 0],\n",
              "       [0, 1, 0],\n",
              "       [0, 1, 0],\n",
              "       [0, 1, 0],\n",
              "       [0, 1, 0],\n",
              "       [0, 1, 0],\n",
              "       [0, 1, 0],\n",
              "       [0, 1, 0],\n",
              "       [0, 1, 0],\n",
              "       [0, 1, 0],\n",
              "       [0, 1, 0],\n",
              "       [0, 1, 0],\n",
              "       [0, 1, 0],\n",
              "       [0, 1, 0],\n",
              "       [0, 1, 0],\n",
              "       [0, 1, 0],\n",
              "       [0, 1, 0],\n",
              "       [0, 1, 0],\n",
              "       [0, 1, 0],\n",
              "       [0, 1, 0],\n",
              "       [0, 1, 0],\n",
              "       [0, 1, 0],\n",
              "       [0, 1, 0],\n",
              "       [0, 1, 0],\n",
              "       [0, 1, 0],\n",
              "       [0, 1, 0],\n",
              "       [0, 1, 0],\n",
              "       [0, 1, 0],\n",
              "       [0, 1, 0],\n",
              "       [0, 1, 0],\n",
              "       [0, 1, 0],\n",
              "       [0, 1, 0],\n",
              "       [0, 1, 0],\n",
              "       [0, 1, 0],\n",
              "       [0, 1, 0],\n",
              "       [0, 1, 0],\n",
              "       [0, 1, 0],\n",
              "       [0, 1, 0],\n",
              "       [0, 1, 0],\n",
              "       [0, 1, 0],\n",
              "       [0, 1, 0],\n",
              "       [0, 1, 0],\n",
              "       [0, 1, 0],\n",
              "       [0, 1, 0],\n",
              "       [0, 1, 0],\n",
              "       [0, 1, 0],\n",
              "       [0, 1, 0],\n",
              "       [0, 1, 0],\n",
              "       [0, 1, 0],\n",
              "       [0, 1, 0],\n",
              "       [0, 1, 0],\n",
              "       [0, 1, 0],\n",
              "       [0, 1, 0],\n",
              "       [0, 1, 0],\n",
              "       [0, 1, 0],\n",
              "       [0, 1, 0],\n",
              "       [0, 1, 0],\n",
              "       [0, 1, 0],\n",
              "       [0, 1, 0],\n",
              "       [0, 1, 0],\n",
              "       [0, 1, 0],\n",
              "       [0, 1, 0],\n",
              "       [0, 1, 0],\n",
              "       [0, 1, 0],\n",
              "       [0, 1, 0],\n",
              "       [0, 1, 0],\n",
              "       [0, 1, 0],\n",
              "       [0, 1, 0],\n",
              "       [0, 1, 0],\n",
              "       [0, 1, 0],\n",
              "       [0, 1, 0],\n",
              "       [0, 1, 0],\n",
              "       [0, 1, 0],\n",
              "       [0, 1, 0],\n",
              "       [0, 1, 0],\n",
              "       [0, 1, 0],\n",
              "       [0, 1, 0],\n",
              "       [0, 1, 0],\n",
              "       [0, 1, 0],\n",
              "       [0, 1, 0],\n",
              "       [0, 1, 0],\n",
              "       [0, 1, 0],\n",
              "       [0, 1, 0],\n",
              "       [0, 1, 0],\n",
              "       [0, 1, 0],\n",
              "       [0, 1, 0],\n",
              "       [0, 1, 0],\n",
              "       [0, 1, 0],\n",
              "       [0, 1, 0],\n",
              "       [0, 1, 0],\n",
              "       [0, 1, 0],\n",
              "       [0, 1, 0],\n",
              "       [0, 1, 0],\n",
              "       [0, 1, 0],\n",
              "       [0, 1, 0],\n",
              "       [0, 1, 0],\n",
              "       [0, 1, 0],\n",
              "       [0, 1, 0],\n",
              "       [0, 1, 0],\n",
              "       [0, 1, 0],\n",
              "       [0, 1, 0],\n",
              "       [0, 1, 0],\n",
              "       [0, 1, 0],\n",
              "       [1, 0, 0],\n",
              "       [1, 0, 0],\n",
              "       [1, 0, 0],\n",
              "       [1, 0, 0],\n",
              "       [1, 0, 0],\n",
              "       [1, 0, 0],\n",
              "       [1, 0, 0],\n",
              "       [1, 0, 0],\n",
              "       [1, 0, 0],\n",
              "       [1, 0, 0],\n",
              "       [1, 0, 0],\n",
              "       [1, 0, 0],\n",
              "       [1, 0, 0],\n",
              "       [1, 0, 0],\n",
              "       [1, 0, 0],\n",
              "       [1, 0, 0],\n",
              "       [1, 0, 0],\n",
              "       [1, 0, 0],\n",
              "       [1, 0, 0],\n",
              "       [1, 0, 0],\n",
              "       [1, 0, 0],\n",
              "       [1, 0, 0],\n",
              "       [0, 0, 1],\n",
              "       [0, 0, 1],\n",
              "       [0, 0, 1],\n",
              "       [0, 0, 1],\n",
              "       [0, 0, 1],\n",
              "       [0, 0, 1],\n",
              "       [0, 0, 1],\n",
              "       [0, 0, 1],\n",
              "       [0, 0, 1],\n",
              "       [0, 0, 1],\n",
              "       [0, 0, 1],\n",
              "       [0, 0, 1],\n",
              "       [0, 0, 1],\n",
              "       [0, 0, 1],\n",
              "       [0, 0, 1],\n",
              "       [0, 0, 1],\n",
              "       [0, 0, 1],\n",
              "       [0, 0, 1],\n",
              "       [0, 0, 1],\n",
              "       [0, 0, 1],\n",
              "       [0, 0, 1],\n",
              "       [0, 0, 1],\n",
              "       [0, 0, 1]])"
            ]
          },
          "metadata": {},
          "execution_count": 358
        }
      ]
    },
    {
      "cell_type": "markdown",
      "source": [
        "#ELM"
      ],
      "metadata": {
        "id": "5n7OZ9U47bjV"
      }
    },
    {
      "cell_type": "code",
      "source": [
        "input_size = x_train.shape[1]"
      ],
      "metadata": {
        "id": "yuVu7REf7ckD"
      },
      "execution_count": null,
      "outputs": []
    },
    {
      "cell_type": "code",
      "source": [
        "input_size"
      ],
      "metadata": {
        "colab": {
          "base_uri": "https://localhost:8080/"
        },
        "id": "R0kC6quHKR1Z",
        "outputId": "609a7e07-c54a-414f-f1a8-efbfabf6c316"
      },
      "execution_count": null,
      "outputs": [
        {
          "output_type": "execute_result",
          "data": {
            "text/plain": [
              "5"
            ]
          },
          "metadata": {},
          "execution_count": 511
        }
      ]
    },
    {
      "cell_type": "code",
      "source": [
        "hidden_size = 55"
      ],
      "metadata": {
        "id": "Y83-uO498ckO"
      },
      "execution_count": null,
      "outputs": []
    },
    {
      "cell_type": "code",
      "source": [
        "input_weights = np.random.normal(size=[input_size,hidden_size])\n",
        "biases = np.random.normal(size=[hidden_size])"
      ],
      "metadata": {
        "id": "SI8BSu8l8gVJ"
      },
      "execution_count": null,
      "outputs": []
    },
    {
      "cell_type": "code",
      "source": [
        "def relu(x):\n",
        "   return np.maximum(x, 0, x)"
      ],
      "metadata": {
        "id": "nhIGAJ088kj7"
      },
      "execution_count": null,
      "outputs": []
    },
    {
      "cell_type": "code",
      "source": [
        "def hidden_nodes(X):\n",
        "    G = np.dot(X, input_weights)\n",
        "    G = G + biases\n",
        "    H = relu(G)\n",
        "    return H"
      ],
      "metadata": {
        "id": "niSnIYOs8mi2"
      },
      "execution_count": null,
      "outputs": []
    },
    {
      "cell_type": "code",
      "source": [
        "output_weights = np.dot(pinv2(hidden_nodes(x_train)), y_train)"
      ],
      "metadata": {
        "colab": {
          "base_uri": "https://localhost:8080/"
        },
        "id": "IPKxY40S8oHF",
        "outputId": "4f7f9349-c1a2-4d67-dde2-36f022aa2fd5"
      },
      "execution_count": null,
      "outputs": [
        {
          "output_type": "stream",
          "name": "stderr",
          "text": [
            "/usr/local/lib/python3.7/dist-packages/ipykernel_launcher.py:1: DeprecationWarning: scipy.linalg.pinv2 is deprecated since SciPy 1.7.0, use scipy.linalg.pinv instead\n",
            "  \"\"\"Entry point for launching an IPython kernel.\n"
          ]
        }
      ]
    },
    {
      "cell_type": "code",
      "source": [
        "def predict(X):\n",
        "    out = hidden_nodes(X)\n",
        "    out = np.dot(out, output_weights)\n",
        "    return out"
      ],
      "metadata": {
        "id": "82RHSoG98yWA"
      },
      "execution_count": null,
      "outputs": []
    },
    {
      "cell_type": "code",
      "source": [
        "prediction = predict(x_test)\n",
        "correct = 0\n",
        "total = x_test.shape[0]\n",
        "acc = []\n",
        "pred = []\n",
        "act = []\n",
        "for i in range(total):\n",
        "    predicted = np.argmax(prediction[i])\n",
        "    actual = np.argmax(y_test[i])\n",
        "    correct += 1 if predicted == actual else 0\n",
        "    accuracy = correct/total\n",
        "    acc.append(accuracy)\n",
        "    act.append(actual)\n",
        "    pred.append(predicted)\n",
        "\n",
        "\n",
        "print('Accuracy for ', hidden_size, ' hidden nodes: ', accuracy)"
      ],
      "metadata": {
        "colab": {
          "base_uri": "https://localhost:8080/"
        },
        "id": "cwq0cGxi81ZX",
        "outputId": "4ac1a1b0-3aee-40c0-d484-53a367655873"
      },
      "execution_count": null,
      "outputs": [
        {
          "output_type": "stream",
          "name": "stdout",
          "text": [
            "Accuracy for  55  hidden nodes:  0.8744769874476988\n"
          ]
        }
      ]
    },
    {
      "cell_type": "code",
      "source": [
        "from sklearn import metrics\n",
        "confusion_matrix = metrics.confusion_matrix(act, pred)\n",
        "confusion_matrix"
      ],
      "metadata": {
        "colab": {
          "base_uri": "https://localhost:8080/"
        },
        "id": "R7u81_c5HvO1",
        "outputId": "c5319582-fc13-4946-f5c5-6b4228d04002"
      },
      "execution_count": null,
      "outputs": [
        {
          "output_type": "execute_result",
          "data": {
            "text/plain": [
              "array([[  4,  11,   7],\n",
              "       [  6, 183,   5],\n",
              "       [  0,   1,  22]])"
            ]
          },
          "metadata": {},
          "execution_count": 519
        }
      ]
    },
    {
      "cell_type": "code",
      "source": [
        "target_names = ['Adenocarcinoma','HSIL','SCC']"
      ],
      "metadata": {
        "id": "przh3nMxJVU1"
      },
      "execution_count": null,
      "outputs": []
    },
    {
      "cell_type": "code",
      "source": [
        "print(classification_report(act, pred, target_names=target_names))"
      ],
      "metadata": {
        "colab": {
          "base_uri": "https://localhost:8080/"
        },
        "id": "CVL0vqk3JLux",
        "outputId": "a6d0171c-2c1e-40f4-e70d-0da61cdfff65"
      },
      "execution_count": null,
      "outputs": [
        {
          "output_type": "stream",
          "name": "stdout",
          "text": [
            "                precision    recall  f1-score   support\n",
            "\n",
            "Adenocarcinoma       0.40      0.18      0.25        22\n",
            "          HSIL       0.94      0.94      0.94       194\n",
            "           SCC       0.65      0.96      0.77        23\n",
            "\n",
            "      accuracy                           0.87       239\n",
            "     macro avg       0.66      0.69      0.65       239\n",
            "  weighted avg       0.86      0.87      0.86       239\n",
            "\n"
          ]
        }
      ]
    },
    {
      "cell_type": "code",
      "source": [
        "cm_display = metrics.ConfusionMatrixDisplay(confusion_matrix = confusion_matrix, display_labels = target_names)\n",
        "\n",
        "cm_display.plot()\n",
        "plt.show() "
      ],
      "metadata": {
        "colab": {
          "base_uri": "https://localhost:8080/",
          "height": 279
        },
        "id": "BPVgX4iPJooC",
        "outputId": "2762a617-efd6-4280-8e40-5937b615af87"
      },
      "execution_count": null,
      "outputs": [
        {
          "output_type": "display_data",
          "data": {
            "text/plain": [
              "<Figure size 432x288 with 2 Axes>"
            ],
            "image/png": "[encoded data removed]"
          },
          "metadata": {
            "needs_background": "light"
          }
        }
      ]
    },
    {
      "cell_type": "code",
      "source": [
        "from matplotlib import pyplot as plt\n",
        "plt.plot(acc)\n"
      ],
      "metadata": {
        "colab": {
          "base_uri": "https://localhost:8080/",
          "height": 283
        },
        "id": "-Tx_J170-2xO",
        "outputId": "d22ace03-9a4d-4599-c4de-1bb911b61b1d"
      },
      "execution_count": null,
      "outputs": [
        {
          "output_type": "execute_result",
          "data": {
            "text/plain": [
              "[<matplotlib.lines.Line2D at 0x7f75cbd1db90>]"
            ]
          },
          "metadata": {},
          "execution_count": 523
        },
        {
          "output_type": "display_data",
          "data": {
            "text/plain": [
              "<Figure size 432x288 with 1 Axes>"
            ],
            "image/png": "[encoded data removed]"
          },
          "metadata": {
            "needs_background": "light"
          }
        }
      ]
    },
    {
      "cell_type": "code",
      "source": [
        "plt.figure(figsize=(16, 9))\n",
        "plt.title(\"Extreme Learning Machine\")\n",
        "plt.plot(acc, '+-', label='Extreme Learning Machine')\n",
        "plt.legend()"
      ],
      "metadata": {
        "colab": {
          "base_uri": "https://localhost:8080/",
          "height": 526
        },
        "id": "TPlvdebGfcWv",
        "outputId": "2180d95a-aacf-475b-867c-657b098cd649"
      },
      "execution_count": null,
      "outputs": [
        {
          "output_type": "execute_result",
          "data": {
            "text/plain": [
              "<matplotlib.legend.Legend at 0x7f75cbb3c710>"
            ]
          },
          "metadata": {},
          "execution_count": 524
        },
        {
          "output_type": "display_data",
          "data": {
            "text/plain": [
              "<Figure size 1152x648 with 1 Axes>"
            ],
            "image/png": "[encoded data removed]"
          },
          "metadata": {
            "needs_background": "light"
          }
        }
      ]
    }
  ]
}